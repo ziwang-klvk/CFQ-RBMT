{
 "cells": [
  {
   "cell_type": "code",
   "execution_count": 1,
   "metadata": {},
   "outputs": [],
   "source": [
    "from pathlib import Path\n",
    "import sys\n",
    "root = Path.cwd().parent\n",
    "sys.path.append(str(root))\n",
    "\n",
    "import urbans\n",
    "from grammar.dictionary import dic_en2jp\n",
    "from grammar.source_grammar import EN_source_transduction_grammar as src_grammar\n",
    "from grammar.transduction_rule import src_to_target_grammar\n",
    "\n",
    "from grammar.postproc import post_processing, pref_pattern"
   ]
  },
  {
   "cell_type": "code",
   "execution_count": 2,
   "metadata": {},
   "outputs": [],
   "source": [
    "post_processor = post_processing()"
   ]
  },
  {
   "cell_type": "code",
   "execution_count": 3,
   "metadata": {},
   "outputs": [],
   "source": [
    "# The translator in revised urbans can be created with a empty dictionary and acting as a parser.\n",
    "word_parser = urbans.Translator(src_grammar=src_grammar, src_to_tgt_grammar=src_to_target_grammar, src_to_tgt_dictionary=dict())"
   ]
  },
  {
   "cell_type": "code",
   "execution_count": 4,
   "metadata": {},
   "outputs": [],
   "source": [
    "with open('Questions.txt') as f:\n",
    "    lines = f.readlines()\n",
    "\n",
    "lines = list(set(lines))\n",
    "del lines[lines.index('\\n')]"
   ]
  },
  {
   "cell_type": "markdown",
   "metadata": {},
   "source": [
    "## Word Parsing"
   ]
  },
  {
   "cell_type": "code",
   "execution_count": 113,
   "metadata": {},
   "outputs": [
    {
     "name": "stderr",
     "output_type": "stream",
     "text": [
      "100%|██████████| 1000/1000 [00:14<00:00, 69.85it/s]"
     ]
    },
    {
     "name": "stdout",
     "output_type": "stream",
     "text": [
      "Word parsing completed! 0 sentences failed. 356 sentences occurred ambiguity.\n"
     ]
    },
    {
     "name": "stderr",
     "output_type": "stream",
     "text": [
      "\n"
     ]
    }
   ],
   "source": [
    "tag_word_set, failed_sentences, ambiguity_sentences = word_parser.parse_words(sentences=lines)"
   ]
  },
  {
   "cell_type": "code",
   "execution_count": 6,
   "metadata": {},
   "outputs": [
    {
     "name": "stdout",
     "output_type": "stream",
     "text": [
      "Word parsing completed! 0 sentences failed. 1 sentences occurred ambiguity.\n"
     ]
    }
   ],
   "source": [
    "# reparsing\n",
    "tag_word_set_2, failed_sentences_2, ambiguity_sentences_2 = word_parser.parse_words(sentences=['Was a Chinese actor that M2 was written by and starred a composer\\n'])"
   ]
  },
  {
   "cell_type": "code",
   "execution_count": 15,
   "metadata": {},
   "outputs": [
    {
     "data": {
      "text/plain": [
       "dict_keys(['did', 'Name', 'V', 'det', 'role', 'of', 'commonNoun', 'pS', 'AdjNa', 'F', 'VT', 'conjN', 'conj', 'punct', 'R', 'VMod', 'P', 'punctN', 'VsrT', 'by', 'VsrMod', 'was', 'whose', 'VPassOrgMod', 'Vsr', 'VPassOrgT', 'VOrgPassMod', 'Cnt', 'nat', 'VOrgPassT', 'detSub', 'Adj', 'WhW', 'NPQ'])"
      ]
     },
     "execution_count": 15,
     "metadata": {},
     "output_type": "execute_result"
    }
   ],
   "source": [
    "tag_word_set.keys()"
   ]
  },
  {
   "cell_type": "code",
   "execution_count": null,
   "metadata": {},
   "outputs": [],
   "source": [
    "import nltk\n",
    "analyze_sen = \"Who was influenced by a composer influenced by M3 and influenced by M4 and M5 and influenced by M1\"\n",
    "for i in ambiguity_sentences[analyze_sen]:\n",
    "    i.draw()"
   ]
  },
  {
   "cell_type": "markdown",
   "metadata": {},
   "source": [
    "## Translation"
   ]
  },
  {
   "cell_type": "code",
   "execution_count": 8,
   "metadata": {},
   "outputs": [],
   "source": [
    "e2j_translator = urbans.Translator(src_grammar=src_grammar, src_to_tgt_grammar=src_to_target_grammar, src_to_tgt_dictionary=dic_en2jp)"
   ]
  },
  {
   "cell_type": "code",
   "execution_count": 31,
   "metadata": {},
   "outputs": [
    {
     "name": "stderr",
     "output_type": "stream",
     "text": [
      "100%|██████████| 19823/19823 [05:08<00:00, 64.32it/s]\n"
     ]
    }
   ],
   "source": [
    "trans_sentence, trans_map = e2j_translator.translate(ambiguity_sentences, remove_space=True)"
   ]
  },
  {
   "cell_type": "code",
   "execution_count": 36,
   "metadata": {},
   "outputs": [
    {
     "data": {
      "text/plain": [
       "784"
      ]
     },
     "execution_count": 36,
     "metadata": {},
     "output_type": "execute_result"
    }
   ],
   "source": [
    "len(trans_map)"
   ]
  },
  {
   "cell_type": "markdown",
   "metadata": {},
   "source": [
    "#### Disambiguity\n",
    "784 out of 19823 ambiguities harmful"
   ]
  },
  {
   "cell_type": "code",
   "execution_count": 79,
   "metadata": {},
   "outputs": [],
   "source": [
    "# with open('ambiguinous_question.txt', 'w') as f:\n",
    "#     for line in ambiguity_sentences:\n",
    "#         f.write(line)\n",
    "try: \n",
    "    ambiguity_sentences\n",
    "except NameError:\n",
    "    ambiguity_sentences = None\n",
    "\n",
    "\n",
    "if ambiguity_sentences == None:\n",
    "    with open('ambiguinous_question.txt', 'r') as f:\n",
    "        ambiguity_sentences = f.readlines()\n"
   ]
  },
  {
   "cell_type": "code",
   "execution_count": 87,
   "metadata": {},
   "outputs": [
    {
     "name": "stderr",
     "output_type": "stream",
     "text": [
      "100%|██████████| 37299/37299 [08:02<00:00, 77.35it/s] \n"
     ]
    }
   ],
   "source": [
    "e2j_translator = urbans.Translator(src_grammar=src_grammar, src_to_tgt_grammar=src_to_target_grammar, src_to_tgt_dictionary=dic_en2jp)\n",
    "trans_sentence, trans_map = e2j_translator.translate(ambiguity_sentences, remove_space=True, prefered_pattern=pref_pattern)"
   ]
  },
  {
   "cell_type": "markdown",
   "metadata": {},
   "source": [
    "\n",
    "536 >> 438 >> 388 >> 377 out of 17648"
   ]
  },
  {
   "cell_type": "code",
   "execution_count": 79,
   "metadata": {},
   "outputs": [
    {
     "name": "stderr",
     "output_type": "stream",
     "text": [
      "100%|██████████| 1/1 [00:00<00:00, 18.91it/s]\n"
     ]
    }
   ],
   "source": [
    "test_sent =  'Who was influenced by a composer influenced by M3 and influenced by M4 and M5 and influenced by M1'\n",
    "e2j_translator = urbans.Translator(src_grammar=src_grammar, src_to_tgt_grammar=src_to_target_grammar, src_to_tgt_dictionary=dic_en2jp)\n",
    "trans_sentence, trans_map = e2j_translator.translate(test_sent, remove_space=True, prefered_pattern=pref_pattern)"
   ]
  },
  {
   "cell_type": "markdown",
   "metadata": {},
   "source": [
    "## Test/Evaluation"
   ]
  },
  {
   "cell_type": "code",
   "execution_count": 7,
   "metadata": {},
   "outputs": [],
   "source": [
    "import random\n",
    "import pandas as pd\n",
    "from sklearn.model_selection import train_test_split"
   ]
  },
  {
   "cell_type": "code",
   "execution_count": null,
   "metadata": {},
   "outputs": [],
   "source": [
    "vq = random.choices(lines, k=1000)"
   ]
  },
  {
   "cell_type": "code",
   "execution_count": 71,
   "metadata": {},
   "outputs": [
    {
     "name": "stderr",
     "output_type": "stream",
     "text": [
      "100%|██████████| 1000/1000 [00:10<00:00, 91.12it/s]\n"
     ]
    }
   ],
   "source": [
    "e2j_translator = urbans.Translator(src_grammar=src_grammar, src_to_tgt_grammar=src_to_target_grammar, src_to_tgt_dictionary=dic_en2jp)\n",
    "trans_vq, trans_map_vq = e2j_translator.translate(vq, remove_space=True, prefered_pattern=pref_pattern)"
   ]
  },
  {
   "cell_type": "code",
   "execution_count": 66,
   "metadata": {},
   "outputs": [],
   "source": [
    "vq_trans = [(s,t) for s, t in zip(vq, trans_vq)]"
   ]
  },
  {
   "cell_type": "markdown",
   "metadata": {},
   "source": [
    "### Evaluate with GOLD"
   ]
  },
  {
   "cell_type": "code",
   "execution_count": 51,
   "metadata": {},
   "outputs": [],
   "source": [
    "gd_jp = pd.read_csv('CWQ Annotation - GOLD-JP.csv')"
   ]
  },
  {
   "cell_type": "code",
   "execution_count": 52,
   "metadata": {},
   "outputs": [],
   "source": [
    "dev, test = train_test_split(gd_jp, test_size=0.66, random_state=42)"
   ]
  },
  {
   "cell_type": "code",
   "execution_count": 53,
   "metadata": {},
   "outputs": [],
   "source": [
    "scr_dev = list(dev['questionPatternModEntities'])\n",
    "scr_test = list(test['questionPatternModEntities'])\n",
    "gd_dev = list(dev['questionPatternModEntitiesJP'])\n",
    "gd_test = list(test['questionPatternModEntitiesJP'])"
   ]
  },
  {
   "cell_type": "code",
   "execution_count": 54,
   "metadata": {},
   "outputs": [
    {
     "name": "stderr",
     "output_type": "stream",
     "text": [
      "100%|██████████| 52/52 [00:01<00:00, 51.40it/s]\n"
     ]
    }
   ],
   "source": [
    "e2j_translator = urbans.Translator(src_grammar=src_grammar, src_to_tgt_grammar=src_to_target_grammar, src_to_tgt_dictionary=dic_en2jp)\n",
    "trans_dev, trans_map_dev = e2j_translator.translate(scr_dev, remove_space=True, prefered_pattern=pref_pattern)\n",
    "trans_dev = post_processor.replace(trans_dev)"
   ]
  },
  {
   "cell_type": "code",
   "execution_count": 55,
   "metadata": {},
   "outputs": [],
   "source": [
    "from sacrebleu.metrics import BLEU\n",
    "from sacrebleu.tokenizers import tokenizer_ja_mecab"
   ]
  },
  {
   "cell_type": "code",
   "execution_count": 56,
   "metadata": {},
   "outputs": [
    {
     "data": {
      "text/plain": [
       "BLEU = 97.98 99.3/98.4/97.5/96.9 (BP = 1.000 ratio = 1.000 hyp_len = 1206 ref_len = 1206)"
      ]
     },
     "execution_count": 56,
     "metadata": {},
     "output_type": "execute_result"
    }
   ],
   "source": [
    "bleu = BLEU(tokenize='ja-mecab')\n",
    "bleu.corpus_score(hypotheses=trans_dev, references=[gd_dev])"
   ]
  },
  {
   "cell_type": "markdown",
   "metadata": {},
   "source": [
    "On dev: BLEU = 97.98 99.3/98.4/97.5/96.9 (BP = 1.000 ratio = 1.000 hyp_len = 1206 ref_len = 1206)"
   ]
  },
  {
   "cell_type": "code",
   "execution_count": 57,
   "metadata": {},
   "outputs": [],
   "source": [
    "comp = []\n",
    "for a, b in zip(gd_dev,trans_dev):\n",
    "    if a != b:\n",
    "        comp.append((a, b))"
   ]
  },
  {
   "cell_type": "code",
   "execution_count": 60,
   "metadata": {},
   "outputs": [
    {
     "name": "stderr",
     "output_type": "stream",
     "text": [
      "100%|██████████| 103/103 [00:01<00:00, 75.56it/s]\n"
     ]
    }
   ],
   "source": [
    "pref_pattern = [{\"S -> was NominalSub Vobl\",\"commonNoun -> F commonNounHead\"},\n",
    "                {\"S -> was NominalSub Vobl\",\"commonNounHead -> F commonNounHead\"},\n",
    "                {\"caseS -> Name pS\"},\n",
    "                {\"NPQ -> WhWNominal\"}\n",
    "                ]\n",
    "e2j_translator = urbans.Translator(src_grammar=src_grammar, src_to_tgt_grammar=src_to_target_grammar, src_to_tgt_dictionary=dic_en2jp)\n",
    "trans_test, trans_map_test = e2j_translator.translate(scr_test, remove_space=True, prefered_pattern=pref_pattern)\n",
    "trans_test = post_processing(trans_test,pattern_pairs=pattern_pairs)"
   ]
  },
  {
   "cell_type": "code",
   "execution_count": 61,
   "metadata": {},
   "outputs": [
    {
     "data": {
      "text/plain": [
       "BLEU = 97.07 99.2/97.9/96.4/95.0 (BP = 1.000 ratio = 1.000 hyp_len = 2306 ref_len = 2307)"
      ]
     },
     "execution_count": 61,
     "metadata": {},
     "output_type": "execute_result"
    }
   ],
   "source": [
    "bleu = BLEU(tokenize='ja-mecab')\n",
    "bleu.corpus_score(hypotheses=trans_test, references=[gd_test])"
   ]
  },
  {
   "cell_type": "markdown",
   "metadata": {},
   "source": [
    "On test: BLEU = 97.07 99.2/97.9/96.4/95.0 (BP = 1.000 ratio = 1.000 hyp_len = 2306 ref_len = 2307)"
   ]
  },
  {
   "cell_type": "code",
   "execution_count": 46,
   "metadata": {},
   "outputs": [],
   "source": [
    "comp_test = []\n",
    "for a, b in zip(gd_test,trans_test):\n",
    "    if a != b:\n",
    "        comp_test.append((a, b))"
   ]
  },
  {
   "cell_type": "code",
   "execution_count": 47,
   "metadata": {},
   "outputs": [
    {
     "data": {
      "text/plain": [
       "19"
      ]
     },
     "execution_count": 47,
     "metadata": {},
     "output_type": "execute_result"
    }
   ],
   "source": [
    "len(comp_test)"
   ]
  },
  {
   "cell_type": "markdown",
   "metadata": {},
   "source": [
    "# Dataset translation"
   ]
  },
  {
   "cell_type": "code",
   "execution_count": 16,
   "metadata": {},
   "outputs": [],
   "source": [
    "# load questions\n",
    "with open('Questions.txt') as f:\n",
    "    lines = f.readlines()\n",
    "\n",
    "lines = list(set(lines))\n",
    "del lines[lines.index('\\n')]"
   ]
  },
  {
   "cell_type": "code",
   "execution_count": 18,
   "metadata": {},
   "outputs": [
    {
     "name": "stderr",
     "output_type": "stream",
     "text": [
      "100%|██████████| 1/1 [00:00<00:00, 95.11it/s]\n"
     ]
    }
   ],
   "source": [
    "pref_pattern = [{\"S -> was NominalSub Vobl\",\"commonNoun -> F commonNounHead\"},\n",
    "                {\"S -> was NominalSub Vobl\",\"commonNounHead -> F commonNounHead\"},\n",
    "                {\"caseS -> Name pS\"},\n",
    "                {\"NPQ -> WhWNominal\"}\n",
    "                ]\n",
    "e2j_translator = urbans.Translator(src_grammar=src_grammar, src_to_tgt_grammar=src_to_target_grammar, src_to_tgt_dictionary=dic_en2jp)\n",
    "lines_jp, maps_jp = e2j_translator.translate(lines, remove_space=True, prefered_pattern=pref_pattern)\n",
    "lines_jp = post_processor.replace(lines_jp)"
   ]
  },
  {
   "cell_type": "code",
   "execution_count": 67,
   "metadata": {},
   "outputs": [],
   "source": [
    "len(lines) == len(lines_jp)\n",
    "lines_en2jp = {}\n",
    "for en, jp in zip(lines, lines_jp):\n",
    "    lines_en2jp[en] = jp"
   ]
  },
  {
   "cell_type": "code",
   "execution_count": 70,
   "metadata": {},
   "outputs": [],
   "source": [
    "# import csv\n",
    "\n",
    "# with open('ambiguity_maps.csv', 'w') as f:\n",
    "#     for key in maps_jp.keys():\n",
    "#         f.write(\"%s, %s\\n\" % (key, maps_jp[key]))"
   ]
  },
  {
   "cell_type": "markdown",
   "metadata": {},
   "source": [
    "# Translate samples for manual evaluation"
   ]
  },
  {
   "cell_type": "code",
   "execution_count": 8,
   "metadata": {},
   "outputs": [],
   "source": [
    "me_en = pd.read_csv('CWQ Annotation - EN.csv')"
   ]
  },
  {
   "cell_type": "code",
   "execution_count": 9,
   "metadata": {},
   "outputs": [],
   "source": [
    "sentences = list(me_en['questionWithBrackets'].dropna())"
   ]
  },
  {
   "cell_type": "code",
   "execution_count": 10,
   "metadata": {},
   "outputs": [],
   "source": [
    "import re"
   ]
  },
  {
   "cell_type": "code",
   "execution_count": 27,
   "metadata": {},
   "outputs": [],
   "source": [
    "# replace bracketed entities with M1 as placeholder\n",
    "ent_register = []\n",
    "rep_sentences = []\n",
    "for seten in sentences:\n",
    "    ents = re.findall(\"\\[.*?\\]\", set)\n",
    "    for ent in ents:\n",
    "        ent_register.append(ent)\n",
    "    rep_sentences.append(re.sub(\"\\[.*?\\]\", 'M1', set))"
   ]
  },
  {
   "cell_type": "code",
   "execution_count": 28,
   "metadata": {},
   "outputs": [
    {
     "name": "stderr",
     "output_type": "stream",
     "text": [
      "100%|██████████| 42/42 [00:01<00:00, 25.44it/s]\n"
     ]
    }
   ],
   "source": [
    "e2j_translator = urbans.Translator(src_grammar=src_grammar, src_to_tgt_grammar=src_to_target_grammar, src_to_tgt_dictionary=dic_en2jp)\n",
    "trans_rep_sen, trans_map_test = e2j_translator.translate(rep_sentences, remove_space=True, prefered_pattern=pref_pattern)\n",
    "trans_sen = post_processor(trans_rep_sen)"
   ]
  },
  {
   "cell_type": "code",
   "execution_count": 13,
   "metadata": {},
   "outputs": [],
   "source": [
    "# put the bracketed entities back\n",
    "me_jp = []\n",
    "for sen in trans_sen:\n",
    "    while re.search('M1', sen):\n",
    "        sen = sen.replace('M1', ent_register.pop(0), 1)\n",
    "    me_jp.append(sen)\n"
   ]
  },
  {
   "cell_type": "code",
   "execution_count": 14,
   "metadata": {},
   "outputs": [],
   "source": [
    "dic = [{'questionWithBrackets':en, 'questionWithBrackets_jp':jp} for en,jp in zip(sentences, me_jp)]"
   ]
  },
  {
   "cell_type": "code",
   "execution_count": 15,
   "metadata": {},
   "outputs": [],
   "source": [
    "import csv"
   ]
  },
  {
   "cell_type": "code",
   "execution_count": 16,
   "metadata": {},
   "outputs": [],
   "source": [
    "with open('CWQ Annotation - JP.csv','w') as csvfile:\n",
    "    writer = csv.DictWriter(csvfile, fieldnames=['questionWithBrackets', 'questionWithBrackets_jp'])\n",
    "    writer.writeheader()\n",
    "    writer.writerows(dic)"
   ]
  },
  {
   "cell_type": "markdown",
   "metadata": {},
   "source": [
    "# Statistics"
   ]
  },
  {
   "cell_type": "code",
   "execution_count": 4,
   "metadata": {},
   "outputs": [],
   "source": [
    "grammar = set(src_grammar.split('\\n'))"
   ]
  },
  {
   "cell_type": "code",
   "execution_count": 5,
   "metadata": {},
   "outputs": [],
   "source": [
    "grammar.remove('')"
   ]
  },
  {
   "cell_type": "code",
   "execution_count": 6,
   "metadata": {},
   "outputs": [
    {
     "data": {
      "text/plain": [
       "252"
      ]
     },
     "execution_count": 6,
     "metadata": {},
     "output_type": "execute_result"
    }
   ],
   "source": [
    "len(grammar)"
   ]
  },
  {
   "cell_type": "markdown",
   "metadata": {},
   "source": [
    "252 totally, 37 terminals"
   ]
  },
  {
   "cell_type": "code",
   "execution_count": 7,
   "metadata": {},
   "outputs": [],
   "source": [
    "symb = []\n",
    "for g in grammar:\n",
    "    for s in g.split():\n",
    "        if \"\\'\" in s or \"\\\"\" in s:\n",
    "            continue\n",
    "        symb.append(s)\n",
    "symb = set(symb)\n",
    "\n"
   ]
  },
  {
   "cell_type": "markdown",
   "metadata": {},
   "source": [
    "125 EN monolingual grammar, 22 terminals"
   ]
  },
  {
   "cell_type": "markdown",
   "metadata": {},
   "source": [
    "dict terminal 75-122 pairs 287"
   ]
  },
  {
   "cell_type": "code",
   "execution_count": 61,
   "metadata": {},
   "outputs": [],
   "source": [
    "list_en = set()\n",
    "list_jp = set()\n",
    "ct = 0\n",
    "for tag, dct in dic_en2jp.items():\n",
    "    for e, j in dct.items():\n",
    "        list_en.add(e)\n",
    "        list_jp.add(j)\n",
    "        ct+=1"
   ]
  }
 ],
 "metadata": {
  "kernelspec": {
   "display_name": "Python 3.8.12 ('base')",
   "language": "python",
   "name": "python3"
  },
  "language_info": {
   "codemirror_mode": {
    "name": "ipython",
    "version": 3
   },
   "file_extension": ".py",
   "mimetype": "text/x-python",
   "name": "python",
   "nbconvert_exporter": "python",
   "pygments_lexer": "ipython3",
   "version": "3.8.12"
  },
  "orig_nbformat": 4,
  "vscode": {
   "interpreter": {
    "hash": "40d3a090f54c6569ab1632332b64b2c03c39dcf918b08424e98f38b5ae0af88f"
   }
  }
 },
 "nbformat": 4,
 "nbformat_minor": 2
}
