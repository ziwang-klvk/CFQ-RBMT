{
 "cells": [
  {
   "cell_type": "code",
   "execution_count": 1,
   "metadata": {},
   "outputs": [],
   "source": [
    "from pathlib import Path\n",
    "import sys\n",
    "import os\n",
    "root = Path.cwd().parent\n",
    "sys.path.append(str(root))\n",
    "os.chdir(str(root))\n",
    "\n",
    "from dataset_generator import splitIO\n",
    "from assessment import GrammarDBCAssessor\n",
    "from grammar.source_grammar import EN_source_original_grammar as EN_gm"
   ]
  },
  {
   "cell_type": "code",
   "execution_count": 2,
   "metadata": {},
   "outputs": [],
   "source": [
    "from assessment import AssessConfig"
   ]
  },
  {
   "cell_type": "code",
   "execution_count": 3,
   "metadata": {},
   "outputs": [],
   "source": [
    "def read_file(path):\n",
    "    with open(path) as f:\n",
    "        lines = f.readlines()\n",
    "        text = [splitIO(line)[0] for line in lines]\n",
    "    return text"
   ]
  },
  {
   "cell_type": "code",
   "execution_count": 13,
   "metadata": {},
   "outputs": [
    {
     "ename": "FileNotFoundError",
     "evalue": "[Errno 2] No such file or directory: 'mcwq\\\\official\\\\mcd1\\\\train.en.txt'",
     "output_type": "error",
     "traceback": [
      "\u001b[1;31m---------------------------------------------------------------------------\u001b[0m",
      "\u001b[1;31mFileNotFoundError\u001b[0m                         Traceback (most recent call last)",
      "\u001b[1;32mc:\\Users\\Kalavinka_Wang\\repo\\CFQ-RBMT\\da\\nb.ipynb Cell 5\u001b[0m in \u001b[0;36m<cell line: 4>\u001b[1;34m()\u001b[0m\n\u001b[0;32m      <a href='vscode-notebook-cell:/c%3A/Users/Kalavinka_Wang/repo/CFQ-RBMT/da/nb.ipynb#W5sZmlsZQ%3D%3D?line=1'>2</a>\u001b[0m split \u001b[39m=\u001b[39m [\u001b[39m'\u001b[39m\u001b[39mmcd1\u001b[39m\u001b[39m'\u001b[39m,\u001b[39m'\u001b[39m\u001b[39mmcd2\u001b[39m\u001b[39m'\u001b[39m,\u001b[39m'\u001b[39m\u001b[39mmcd3\u001b[39m\u001b[39m'\u001b[39m]\n\u001b[0;32m      <a href='vscode-notebook-cell:/c%3A/Users/Kalavinka_Wang/repo/CFQ-RBMT/da/nb.ipynb#W5sZmlsZQ%3D%3D?line=2'>3</a>\u001b[0m path \u001b[39m=\u001b[39m os\u001b[39m.\u001b[39mpath\u001b[39m.\u001b[39mjoin(root_path, split[\u001b[39m0\u001b[39m])\n\u001b[1;32m----> <a href='vscode-notebook-cell:/c%3A/Users/Kalavinka_Wang/repo/CFQ-RBMT/da/nb.ipynb#W5sZmlsZQ%3D%3D?line=3'>4</a>\u001b[0m train \u001b[39m=\u001b[39m read_file(os\u001b[39m.\u001b[39;49mpath\u001b[39m.\u001b[39;49mjoin(path, \u001b[39m'\u001b[39;49m\u001b[39mtrain.en.txt\u001b[39;49m\u001b[39m'\u001b[39;49m))\n\u001b[0;32m      <a href='vscode-notebook-cell:/c%3A/Users/Kalavinka_Wang/repo/CFQ-RBMT/da/nb.ipynb#W5sZmlsZQ%3D%3D?line=4'>5</a>\u001b[0m test  \u001b[39m=\u001b[39m read_file(os\u001b[39m.\u001b[39mpath\u001b[39m.\u001b[39mjoin(path, \u001b[39m'\u001b[39m\u001b[39mdev.en.txt\u001b[39m\u001b[39m'\u001b[39m)) \u001b[39m+\u001b[39m read_file(os\u001b[39m.\u001b[39mpath\u001b[39m.\u001b[39mjoin(path, \u001b[39m'\u001b[39m\u001b[39mtest.en.txt\u001b[39m\u001b[39m'\u001b[39m))\n",
      "\u001b[1;32mc:\\Users\\Kalavinka_Wang\\repo\\CFQ-RBMT\\da\\nb.ipynb Cell 5\u001b[0m in \u001b[0;36mread_file\u001b[1;34m(path)\u001b[0m\n\u001b[0;32m      <a href='vscode-notebook-cell:/c%3A/Users/Kalavinka_Wang/repo/CFQ-RBMT/da/nb.ipynb#W5sZmlsZQ%3D%3D?line=0'>1</a>\u001b[0m \u001b[39mdef\u001b[39;00m \u001b[39mread_file\u001b[39m(path):\n\u001b[1;32m----> <a href='vscode-notebook-cell:/c%3A/Users/Kalavinka_Wang/repo/CFQ-RBMT/da/nb.ipynb#W5sZmlsZQ%3D%3D?line=1'>2</a>\u001b[0m     \u001b[39mwith\u001b[39;00m \u001b[39mopen\u001b[39;49m(path) \u001b[39mas\u001b[39;00m f:\n\u001b[0;32m      <a href='vscode-notebook-cell:/c%3A/Users/Kalavinka_Wang/repo/CFQ-RBMT/da/nb.ipynb#W5sZmlsZQ%3D%3D?line=2'>3</a>\u001b[0m         lines \u001b[39m=\u001b[39m f\u001b[39m.\u001b[39mreadlines()\n\u001b[0;32m      <a href='vscode-notebook-cell:/c%3A/Users/Kalavinka_Wang/repo/CFQ-RBMT/da/nb.ipynb#W5sZmlsZQ%3D%3D?line=3'>4</a>\u001b[0m         text \u001b[39m=\u001b[39m [splitIO(line)[\u001b[39m0\u001b[39m] \u001b[39mfor\u001b[39;00m line \u001b[39min\u001b[39;00m lines]\n",
      "\u001b[1;31mFileNotFoundError\u001b[0m: [Errno 2] No such file or directory: 'mcwq\\\\official\\\\mcd1\\\\train.en.txt'"
     ]
    }
   ],
   "source": [
    "root_path = os.path.join('mcwq','official')\n",
    "split = ['mcd1','mcd2','mcd3']\n",
    "path = os.path.join(root_path, split[0])\n",
    "train = read_file(os.path.join(path, 'train.en.txt'))\n",
    "test  = read_file(os.path.join(path, 'dev.en.txt')) + read_file(os.path.join(path, 'test.en.txt'))"
   ]
  },
  {
   "cell_type": "code",
   "execution_count": 5,
   "metadata": {},
   "outputs": [
    {
     "name": "stdout",
     "output_type": "stream",
     "text": [
      "------initializing------\n",
      "Generating train Samples...\n"
     ]
    },
    {
     "name": "stderr",
     "output_type": "stream",
     "text": [
      "100%|██████████| 1000/1000 [00:03<00:00, 258.46it/s]\n"
     ]
    },
    {
     "name": "stdout",
     "output_type": "stream",
     "text": [
      "Generating test Samples...\n"
     ]
    },
    {
     "name": "stderr",
     "output_type": "stream",
     "text": [
      "100%|██████████| 200/200 [00:01<00:00, 186.02it/s]\n",
      "INFO:dbca.storage:Loading samples into storage...\n",
      "100%|██████████| 1200/1200 [19:47<00:00,  1.01it/s]\n",
      "INFO:dbca.storage:Done!\n",
      "INFO:dbca.full_sample_set:Loading 1200 samples...\n",
      "100%|██████████| 1200/1200 [00:00<00:00, 3698.79it/s]\n",
      "INFO:dbca.full_sample_set:Computing weight for all 14337 compounds...\n",
      "100%|██████████| 14337/14337 [02:07<00:00, 112.60it/s] \n",
      "INFO:dbca.full_sample_set:Keeping 10000/14337 highest weighted compounds.\n"
     ]
    }
   ],
   "source": [
    "assessor = GrammarDBCAssessor(grammar=EN_gm, train_text=train[:1000], test_text=test[:200])"
   ]
  },
  {
   "cell_type": "code",
   "execution_count": 8,
   "metadata": {},
   "outputs": [
    {
     "data": {
      "image/png": "[encoded data removed]",
      "text/plain": [
       "<Figure size 432x288 with 1 Axes>"
      ]
     },
     "metadata": {
      "needs_background": "light"
     },
     "output_type": "display_data"
    },
    {
     "data": {
      "text/plain": [
       "<module 'matplotlib.pyplot' from '/opt/anaconda3/lib/python3.8/site-packages/matplotlib/pyplot.py'>"
      ]
     },
     "execution_count": 8,
     "metadata": {},
     "output_type": "execute_result"
    }
   ],
   "source": [
    "assessor.splitter.visualize_dists()"
   ]
  },
  {
   "cell_type": "code",
   "execution_count": 9,
   "metadata": {},
   "outputs": [
    {
     "data": {
      "image/png": "[encoded data removed]",
      "text/plain": [
       "<Figure size 432x288 with 1 Axes>"
      ]
     },
     "metadata": {
      "needs_background": "light"
     },
     "output_type": "display_data"
    },
    {
     "data": {
      "text/plain": [
       "<module 'matplotlib.pyplot' from '/opt/anaconda3/lib/python3.8/site-packages/matplotlib/pyplot.py'>"
      ]
     },
     "execution_count": 9,
     "metadata": {},
     "output_type": "execute_result"
    }
   ],
   "source": [
    "assessor.splitter.visualize_dists('atom')"
   ]
  },
  {
   "cell_type": "code",
   "execution_count": 5,
   "metadata": {},
   "outputs": [],
   "source": [
    "root_path = 'mcwq/official/'\n",
    "split = ['mcd1','mcd2','mcd3']\n",
    "path = os.path.join(root_path, split[0])\n",
    "train = read_file(os.path.join(path, 'train.en.txt'))\n",
    "test  = read_file(os.path.join(path, 'dev.en.txt')) + read_file(os.path.join(path, 'test.en.txt'))"
   ]
  },
  {
   "cell_type": "code",
   "execution_count": 26,
   "metadata": {},
   "outputs": [
    {
     "name": "stdout",
     "output_type": "stream",
     "text": [
      "------initializing------\n",
      "Generating train Samples...\n"
     ]
    },
    {
     "name": "stderr",
     "output_type": "stream",
     "text": [
      "100%|██████████| 57190/57190 [03:48<00:00, 250.45it/s]\n"
     ]
    },
    {
     "name": "stdout",
     "output_type": "stream",
     "text": [
      "Generating test Samples...\n"
     ]
    },
    {
     "name": "stderr",
     "output_type": "stream",
     "text": [
      "100%|██████████| 10718/10718 [00:44<00:00, 242.57it/s]\n",
      "INFO:dbca.storage:Loading samples into storage...\n",
      "100%|██████████| 67908/67908 [2:56:29<00:00,  6.41it/s]   \n",
      "INFO:dbca.storage:Done!\n",
      "INFO:dbca.full_sample_set:Loading 67908 samples...\n",
      "100%|██████████| 67908/67908 [07:02<00:00, 160.82it/s] \n",
      "INFO:dbca.full_sample_set:Computing weight for all 121054 compounds...\n",
      "  0%|          | 57/121054 [7:03:33<14985:12:57, 445.85s/it] \n"
     ]
    },
    {
     "ename": "KeyboardInterrupt",
     "evalue": "",
     "output_type": "error",
     "traceback": [
      "\u001b[1;31m---------------------------------------------------------------------------\u001b[0m",
      "\u001b[1;31mKeyboardInterrupt\u001b[0m                         Traceback (most recent call last)",
      "\u001b[1;32mc:\\Users\\Kalavinka_Wang\\repo\\CFQ-RBMT\\da\\nb.ipynb Cell 11\u001b[0m in \u001b[0;36m<cell line: 1>\u001b[1;34m()\u001b[0m\n\u001b[1;32m----> <a href='vscode-notebook-cell:/c%3A/Users/Kalavinka_Wang/repo/CFQ-RBMT/da/nb.ipynb#X13sZmlsZQ%3D%3D?line=0'>1</a>\u001b[0m assessor2 \u001b[39m=\u001b[39m GrammarDBCAssessor(grammar\u001b[39m=\u001b[39;49mEN_gm, train_text\u001b[39m=\u001b[39;49mtrain, test_text\u001b[39m=\u001b[39;49mtest)\n",
      "File \u001b[1;32mc:\\Users\\Kalavinka_Wang\\repo\\CFQ-RBMT\\da\\assessment.py:41\u001b[0m, in \u001b[0;36mGrammarDBCAssessor.__init__\u001b[1;34m(self, grammar, train_text, test_text, assess_config)\u001b[0m\n\u001b[0;32m     38\u001b[0m \u001b[39mself\u001b[39m\u001b[39m.\u001b[39mtrain_samples \u001b[39m=\u001b[39m \u001b[39mself\u001b[39m\u001b[39m.\u001b[39m__parse_and_gen_samples(train_text, \u001b[39m'\u001b[39m\u001b[39mtrain\u001b[39m\u001b[39m'\u001b[39m)\n\u001b[0;32m     39\u001b[0m \u001b[39mself\u001b[39m\u001b[39m.\u001b[39mtest_samples \u001b[39m=\u001b[39m \u001b[39mself\u001b[39m\u001b[39m.\u001b[39m__parse_and_gen_samples(test_text, \u001b[39m'\u001b[39m\u001b[39mtest\u001b[39m\u001b[39m'\u001b[39m)\n\u001b[1;32m---> 41\u001b[0m \u001b[39mself\u001b[39m\u001b[39m.\u001b[39matom_diver, \u001b[39mself\u001b[39m\u001b[39m.\u001b[39mcomp_diver, \u001b[39mself\u001b[39m\u001b[39m.\u001b[39msplitter \u001b[39m=\u001b[39m DBCASplitter\u001b[39m.\u001b[39;49mmeasure_sample_sets(\u001b[39mself\u001b[39;49m\u001b[39m.\u001b[39;49mtrain_samples,\n\u001b[0;32m     42\u001b[0m                                                                                    \u001b[39mself\u001b[39;49m\u001b[39m.\u001b[39;49mtest_samples,\n\u001b[0;32m     43\u001b[0m                                                                                    \u001b[39mself\u001b[39;49m\u001b[39m.\u001b[39;49mDBCAConfig)\n",
      "File \u001b[1;32mc:\\users\\kalavinka_wang\\repo\\cfq-rbmt\\src\\dbca\\dbca\\dbca_splitter.py:423\u001b[0m, in \u001b[0;36mDBCASplitter.measure_sample_sets\u001b[1;34m(cls, train_set, test_set, config)\u001b[0m\n\u001b[0;32m    402\u001b[0m \u001b[39m\"\"\"\u001b[39;00m\n\u001b[0;32m    403\u001b[0m \u001b[39mMeasure atom and compound divergence between two existing sample sets.\u001b[39;00m\n\u001b[0;32m    404\u001b[0m \u001b[39m\u001b[39;00m\n\u001b[1;32m   (...)\u001b[0m\n\u001b[0;32m    420\u001b[0m \u001b[39m\u001b[39;00m\n\u001b[0;32m    421\u001b[0m \u001b[39m\"\"\"\u001b[39;00m\n\u001b[0;32m    422\u001b[0m \u001b[39m# UPDATE: config is passed here since the max_n_compound account for the measurement\u001b[39;00m\n\u001b[1;32m--> 423\u001b[0m dbca_splitter \u001b[39m=\u001b[39m \u001b[39mcls\u001b[39;49m(train_set \u001b[39m+\u001b[39;49m test_set, config \u001b[39m=\u001b[39;49m config)\n\u001b[0;32m    424\u001b[0m \u001b[39mfor\u001b[39;00m sample \u001b[39min\u001b[39;00m train_set:\n\u001b[0;32m    425\u001b[0m     dbca_splitter\u001b[39m.\u001b[39madd_sample_to_set(sample\u001b[39m.\u001b[39mid, dbca_splitter\u001b[39m.\u001b[39mtrain_set)\n",
      "File \u001b[1;32mc:\\users\\kalavinka_wang\\repo\\cfq-rbmt\\src\\dbca\\dbca\\dbca_splitter.py:73\u001b[0m, in \u001b[0;36mDBCASplitter.__init__\u001b[1;34m(self, samples, config)\u001b[0m\n\u001b[0;32m     71\u001b[0m \u001b[39mself\u001b[39m\u001b[39m.\u001b[39msample_store \u001b[39m=\u001b[39m SampleStore(samples)\n\u001b[0;32m     72\u001b[0m \u001b[39m# the top_n_compounds follows configuration\u001b[39;00m\n\u001b[1;32m---> 73\u001b[0m \u001b[39mself\u001b[39m\u001b[39m.\u001b[39mfull_sample_set \u001b[39m=\u001b[39m FullSampleSet(sample_store\u001b[39m=\u001b[39;49m\u001b[39mself\u001b[39;49m\u001b[39m.\u001b[39;49msample_store, top_n_compounds\u001b[39m=\u001b[39;49mconfig\u001b[39m.\u001b[39;49mmax_compounds)  \n\u001b[0;32m     74\u001b[0m \u001b[39mself\u001b[39m\u001b[39m.\u001b[39msample_splits \u001b[39m=\u001b[39m {s_id: \u001b[39mNone\u001b[39;00m \u001b[39mfor\u001b[39;00m s_id \u001b[39min\u001b[39;00m \u001b[39mself\u001b[39m\u001b[39m.\u001b[39mfull_sample_set\u001b[39m.\u001b[39msample_ids}\n\u001b[0;32m     75\u001b[0m \u001b[39mself\u001b[39m\u001b[39m.\u001b[39munused_sample_ids \u001b[39m=\u001b[39m \u001b[39mset\u001b[39m(\u001b[39mself\u001b[39m\u001b[39m.\u001b[39msample_splits\u001b[39m.\u001b[39mkeys())\n",
      "File \u001b[1;32mc:\\users\\kalavinka_wang\\repo\\cfq-rbmt\\src\\dbca\\dbca\\full_sample_set.py:31\u001b[0m, in \u001b[0;36mFullSampleSet.__init__\u001b[1;34m(self, sample_store, top_n_compounds)\u001b[0m\n\u001b[0;32m     28\u001b[0m \u001b[39mself\u001b[39m\u001b[39m.\u001b[39mtop_n_compounds \u001b[39m=\u001b[39m top_n_compounds\n\u001b[0;32m     30\u001b[0m logger\u001b[39m.\u001b[39minfo(\u001b[39mf\u001b[39m\u001b[39m\"\u001b[39m\u001b[39mLoading \u001b[39m\u001b[39m{\u001b[39;00msample_store\u001b[39m.\u001b[39msize\u001b[39m}\u001b[39;00m\u001b[39m samples...\u001b[39m\u001b[39m\"\u001b[39m)\n\u001b[1;32m---> 31\u001b[0m \u001b[39mself\u001b[39;49m\u001b[39m.\u001b[39;49mload_samples(sample_store\u001b[39m.\u001b[39;49msample_ids)\n\u001b[0;32m     32\u001b[0m filtered \u001b[39m=\u001b[39m \u001b[39mself\u001b[39m\u001b[39m.\u001b[39mfilter_compounds(top_n\u001b[39m=\u001b[39mtop_n_compounds) \u001b[39m# keeping for debugging purposes\u001b[39;00m\n\u001b[0;32m     33\u001b[0m total_compounds \u001b[39m=\u001b[39m \u001b[39mlen\u001b[39m(filtered) \u001b[39m+\u001b[39m \u001b[39mlen\u001b[39m(\u001b[39mself\u001b[39m\u001b[39m.\u001b[39mcompound_weights)\n",
      "File \u001b[1;32mc:\\users\\kalavinka_wang\\repo\\cfq-rbmt\\src\\dbca\\dbca\\full_sample_set.py:92\u001b[0m, in \u001b[0;36mFullSampleSet.load_samples\u001b[1;34m(self, sample_ids)\u001b[0m\n\u001b[0;32m     89\u001b[0m \u001b[39m# TODO can parallelize this\u001b[39;00m\n\u001b[0;32m     90\u001b[0m \u001b[39mfor\u001b[39;00m compound_type \u001b[39min\u001b[39;00m tqdm(\u001b[39mself\u001b[39m\u001b[39m.\u001b[39mlocal_compounds_by_type\u001b[39m.\u001b[39mkeys(),\n\u001b[0;32m     91\u001b[0m                           total\u001b[39m=\u001b[39mnum_compounds):\n\u001b[1;32m---> 92\u001b[0m     \u001b[39mself\u001b[39m\u001b[39m.\u001b[39mcompound_weights[compound_type] \u001b[39m=\u001b[39m \u001b[39mself\u001b[39;49m\u001b[39m.\u001b[39;49mcalc_compound_weight_in_sample_set(compound_type)\n",
      "File \u001b[1;32mc:\\users\\kalavinka_wang\\repo\\cfq-rbmt\\src\\dbca\\dbca\\full_sample_set.py:107\u001b[0m, in \u001b[0;36mFullSampleSet.calc_compound_weight_in_sample_set\u001b[1;34m(self, compound_type)\u001b[0m\n\u001b[0;32m    104\u001b[0m samples_with_compound \u001b[39m=\u001b[39m \u001b[39mself\u001b[39m\u001b[39m.\u001b[39mlocal_compounds_by_type\u001b[39m.\u001b[39mget(compound_type)\n\u001b[0;32m    106\u001b[0m \u001b[39mfor\u001b[39;00m sample_id \u001b[39min\u001b[39;00m samples_with_compound:\n\u001b[1;32m--> 107\u001b[0m     sample_weight \u001b[39m=\u001b[39m \u001b[39mself\u001b[39;49m\u001b[39m.\u001b[39;49mcalc_compound_weight_in_sample(compound_type, sample_id)\n\u001b[0;32m    108\u001b[0m     \u001b[39mself\u001b[39m\u001b[39m.\u001b[39mcompound_weights_by_type[compound_type][sample_id] \u001b[39m=\u001b[39m sample_weight\n\u001b[0;32m    109\u001b[0m     \u001b[39mself\u001b[39m\u001b[39m.\u001b[39mcompound_weights_by_sample[sample_id][compound_type] \u001b[39m=\u001b[39m sample_weight\n",
      "File \u001b[1;32mc:\\users\\kalavinka_wang\\repo\\cfq-rbmt\\src\\dbca\\dbca\\full_sample_set.py:166\u001b[0m, in \u001b[0;36mFullSampleSet.calc_compound_weight_in_sample\u001b[1;34m(self, compound_type, sample_id)\u001b[0m\n\u001b[0;32m    163\u001b[0m max_weight \u001b[39m=\u001b[39m \u001b[39m0.0\u001b[39m\n\u001b[0;32m    164\u001b[0m \u001b[39mfor\u001b[39;00m c_uid \u001b[39min\u001b[39;00m sample_compound_occs:\n\u001b[0;32m    165\u001b[0m     \u001b[39m# taking complement of maximum co-occurrence probability\u001b[39;00m\n\u001b[1;32m--> 166\u001b[0m     weight \u001b[39m=\u001b[39m (\u001b[39m1\u001b[39m \u001b[39m-\u001b[39m \u001b[39mself\u001b[39;49m\u001b[39m.\u001b[39;49mcalc_max_occur_supergraph_prob(c_uid))\n\u001b[0;32m    167\u001b[0m     max_weight \u001b[39m=\u001b[39m weight \u001b[39mif\u001b[39;00m weight \u001b[39m>\u001b[39m max_weight \u001b[39melse\u001b[39;00m max_weight\n\u001b[0;32m    169\u001b[0m \u001b[39mreturn\u001b[39;00m max_weight\n",
      "File \u001b[1;32mc:\\users\\kalavinka_wang\\repo\\cfq-rbmt\\src\\dbca\\dbca\\full_sample_set.py:140\u001b[0m, in \u001b[0;36mFullSampleSet.calc_max_occur_supergraph_prob\u001b[1;34m(self, c_uid)\u001b[0m\n\u001b[0;32m    137\u001b[0m \u001b[39m# to find maximal co-occurring super-graph, we can just consider all \"super-edges\" w.r.t\u001b[39;00m\n\u001b[0;32m    138\u001b[0m \u001b[39m# the compound.\u001b[39;00m\n\u001b[0;32m    139\u001b[0m \u001b[39mfor\u001b[39;00m edge \u001b[39min\u001b[39;00m compound\u001b[39m.\u001b[39msuper_edges():\n\u001b[1;32m--> 140\u001b[0m     co_occur_prob \u001b[39m=\u001b[39m \u001b[39msum\u001b[39m([c\u001b[39m.\u001b[39mis_super_edge(edge) \u001b[39mfor\u001b[39;00m c \u001b[39min\u001b[39;00m occs_compounds]) \u001b[39m/\u001b[39m \u001b[39mlen\u001b[39m(occs_compounds)\n\u001b[0;32m    141\u001b[0m     \u001b[39mif\u001b[39;00m co_occur_prob \u001b[39m>\u001b[39m max_co_occur_prob:\n\u001b[0;32m    142\u001b[0m         max_co_occur_prob \u001b[39m=\u001b[39m co_occur_prob\n",
      "File \u001b[1;32mc:\\users\\kalavinka_wang\\repo\\cfq-rbmt\\src\\dbca\\dbca\\full_sample_set.py:140\u001b[0m, in \u001b[0;36m<listcomp>\u001b[1;34m(.0)\u001b[0m\n\u001b[0;32m    137\u001b[0m \u001b[39m# to find maximal co-occurring super-graph, we can just consider all \"super-edges\" w.r.t\u001b[39;00m\n\u001b[0;32m    138\u001b[0m \u001b[39m# the compound.\u001b[39;00m\n\u001b[0;32m    139\u001b[0m \u001b[39mfor\u001b[39;00m edge \u001b[39min\u001b[39;00m compound\u001b[39m.\u001b[39msuper_edges():\n\u001b[1;32m--> 140\u001b[0m     co_occur_prob \u001b[39m=\u001b[39m \u001b[39msum\u001b[39m([c\u001b[39m.\u001b[39;49mis_super_edge(edge) \u001b[39mfor\u001b[39;00m c \u001b[39min\u001b[39;00m occs_compounds]) \u001b[39m/\u001b[39m \u001b[39mlen\u001b[39m(occs_compounds)\n\u001b[0;32m    141\u001b[0m     \u001b[39mif\u001b[39;00m co_occur_prob \u001b[39m>\u001b[39m max_co_occur_prob:\n\u001b[0;32m    142\u001b[0m         max_co_occur_prob \u001b[39m=\u001b[39m co_occur_prob\n",
      "File \u001b[1;32mc:\\users\\kalavinka_wang\\repo\\cfq-rbmt\\src\\dbca\\dbca\\base.py:54\u001b[0m, in \u001b[0;36mCompound.is_super_edge\u001b[1;34m(self, edge)\u001b[0m\n\u001b[0;32m     49\u001b[0m \u001b[39m\"\"\"\u001b[39;00m\n\u001b[0;32m     50\u001b[0m \u001b[39mReturn True if edge contained in compound's supergraph.\u001b[39;00m\n\u001b[0;32m     51\u001b[0m \u001b[39m\u001b[39;00m\n\u001b[0;32m     52\u001b[0m \u001b[39m\"\"\"\u001b[39;00m\n\u001b[0;32m     53\u001b[0m source, target \u001b[39m=\u001b[39m edge\n\u001b[1;32m---> 54\u001b[0m \u001b[39mreturn\u001b[39;00m (source, target) \u001b[39min\u001b[39;00m \u001b[39mself\u001b[39;49m\u001b[39m.\u001b[39;49m_G\u001b[39m.\u001b[39;49medges()\n",
      "File \u001b[1;32md:\\anaconda\\lib\\site-packages\\networkx\\classes\\digraph.py:900\u001b[0m, in \u001b[0;36mDiGraph.edges\u001b[1;34m(self)\u001b[0m\n\u001b[0;32m    839\u001b[0m \u001b[39m@property\u001b[39m\n\u001b[0;32m    840\u001b[0m \u001b[39mdef\u001b[39;00m \u001b[39medges\u001b[39m(\u001b[39mself\u001b[39m):\n\u001b[0;32m    841\u001b[0m     \u001b[39m\"\"\"An OutEdgeView of the DiGraph as G.edges or G.edges().\u001b[39;00m\n\u001b[0;32m    842\u001b[0m \n\u001b[0;32m    843\u001b[0m \u001b[39m    edges(self, nbunch=None, data=False, default=None)\u001b[39;00m\n\u001b[1;32m   (...)\u001b[0m\n\u001b[0;32m    898\u001b[0m \n\u001b[0;32m    899\u001b[0m \u001b[39m    \"\"\"\u001b[39;00m\n\u001b[1;32m--> 900\u001b[0m     \u001b[39mreturn\u001b[39;00m OutEdgeView(\u001b[39mself\u001b[39;49m)\n",
      "File \u001b[1;32md:\\anaconda\\lib\\site-packages\\networkx\\classes\\reportviews.py:1066\u001b[0m, in \u001b[0;36mOutEdgeView.__init__\u001b[1;34m(self, G)\u001b[0m\n\u001b[0;32m   1064\u001b[0m \u001b[39mdef\u001b[39;00m \u001b[39m__init__\u001b[39m(\u001b[39mself\u001b[39m, G):\n\u001b[0;32m   1065\u001b[0m     \u001b[39mself\u001b[39m\u001b[39m.\u001b[39m_graph \u001b[39m=\u001b[39m G\n\u001b[1;32m-> 1066\u001b[0m     \u001b[39mself\u001b[39m\u001b[39m.\u001b[39m_adjdict \u001b[39m=\u001b[39m G\u001b[39m.\u001b[39m_succ \u001b[39mif\u001b[39;00m \u001b[39mhasattr\u001b[39;49m(G, \u001b[39m\"\u001b[39;49m\u001b[39msucc\u001b[39;49m\u001b[39m\"\u001b[39;49m) \u001b[39melse\u001b[39;00m G\u001b[39m.\u001b[39m_adj\n\u001b[0;32m   1067\u001b[0m     \u001b[39mself\u001b[39m\u001b[39m.\u001b[39m_nodes_nbrs \u001b[39m=\u001b[39m \u001b[39mself\u001b[39m\u001b[39m.\u001b[39m_adjdict\u001b[39m.\u001b[39mitems\n",
      "File \u001b[1;32md:\\anaconda\\lib\\site-packages\\networkx\\classes\\digraph.py:361\u001b[0m, in \u001b[0;36mDiGraph.succ\u001b[1;34m(self)\u001b[0m\n\u001b[0;32m    342\u001b[0m \u001b[39m@property\u001b[39m\n\u001b[0;32m    343\u001b[0m \u001b[39mdef\u001b[39;00m \u001b[39msucc\u001b[39m(\u001b[39mself\u001b[39m):\n\u001b[0;32m    344\u001b[0m     \u001b[39m\"\"\"Graph adjacency object holding the successors of each node.\u001b[39;00m\n\u001b[0;32m    345\u001b[0m \n\u001b[0;32m    346\u001b[0m \u001b[39m    This object is a read-only dict-like structure with node keys\u001b[39;00m\n\u001b[1;32m   (...)\u001b[0m\n\u001b[0;32m    359\u001b[0m \u001b[39m    For directed graphs, `G.adj` is identical to `G.succ`.\u001b[39;00m\n\u001b[0;32m    360\u001b[0m \u001b[39m    \"\"\"\u001b[39;00m\n\u001b[1;32m--> 361\u001b[0m     \u001b[39mreturn\u001b[39;00m AdjacencyView(\u001b[39mself\u001b[39;49m\u001b[39m.\u001b[39;49m_succ)\n",
      "File \u001b[1;32md:\\anaconda\\lib\\site-packages\\networkx\\classes\\coreviews.py:44\u001b[0m, in \u001b[0;36mAtlasView.__init__\u001b[1;34m(self, d)\u001b[0m\n\u001b[0;32m     41\u001b[0m \u001b[39mdef\u001b[39;00m \u001b[39m__setstate__\u001b[39m(\u001b[39mself\u001b[39m, state):\n\u001b[0;32m     42\u001b[0m     \u001b[39mself\u001b[39m\u001b[39m.\u001b[39m_atlas \u001b[39m=\u001b[39m state[\u001b[39m\"\u001b[39m\u001b[39m_atlas\u001b[39m\u001b[39m\"\u001b[39m]\n\u001b[1;32m---> 44\u001b[0m \u001b[39mdef\u001b[39;00m \u001b[39m__init__\u001b[39m(\u001b[39mself\u001b[39m, d):\n\u001b[0;32m     45\u001b[0m     \u001b[39mself\u001b[39m\u001b[39m.\u001b[39m_atlas \u001b[39m=\u001b[39m d\n\u001b[0;32m     47\u001b[0m \u001b[39mdef\u001b[39;00m \u001b[39m__len__\u001b[39m(\u001b[39mself\u001b[39m):\n",
      "\u001b[1;31mKeyboardInterrupt\u001b[0m: "
     ]
    }
   ],
   "source": [
    "assessor2 = GrammarDBCAssessor(grammar=EN_gm, train_text=train, test_text=test)"
   ]
  },
  {
   "cell_type": "code",
   "execution_count": 32,
   "metadata": {},
   "outputs": [],
   "source": [
    "train = read_file(r\"C:\\Users\\Kalavinka_Wang\\Downloads\\seq2sparql-master\\seq2sparql-master\\mcwq\\official\\mcd1\\\\train.en.txt\")\n",
    "test  = read_file(r'C:\\Users\\Kalavinka_Wang\\Downloads\\seq2sparql-master\\seq2sparql-master\\mcwq\\official\\mcd1\\test.en.txt') + read_file(r'C:\\Users\\Kalavinka_Wang\\Downloads\\seq2sparql-master\\seq2sparql-master\\mcwq\\official\\mcd1\\dev.en.txt')"
   ]
  },
  {
   "cell_type": "code",
   "execution_count": 45,
   "metadata": {},
   "outputs": [],
   "source": [
    "cof = AssessConfig()"
   ]
  },
  {
   "cell_type": "code",
   "execution_count": 46,
   "metadata": {},
   "outputs": [],
   "source": [
    "cof.max_compounds = 10000\n",
    "cof.max_compound_nodes = 4"
   ]
  },
  {
   "cell_type": "code",
   "execution_count": null,
   "metadata": {},
   "outputs": [],
   "source": []
  },
  {
   "cell_type": "code",
   "execution_count": 47,
   "metadata": {},
   "outputs": [
    {
     "name": "stderr",
     "output_type": "stream",
     "text": [
      "INFO:dbca.config:Setting logging level to 20\n"
     ]
    },
    {
     "name": "stdout",
     "output_type": "stream",
     "text": [
      "------initializing------\n",
      "Generating train Samples...\n"
     ]
    },
    {
     "name": "stderr",
     "output_type": "stream",
     "text": [
      "100%|██████████| 1144/1144 [00:03<00:00, 295.96it/s]\n"
     ]
    },
    {
     "name": "stdout",
     "output_type": "stream",
     "text": [
      "Generating test Samples...\n"
     ]
    },
    {
     "name": "stderr",
     "output_type": "stream",
     "text": [
      "100%|██████████| 215/215 [00:00<00:00, 295.33it/s]\n",
      "INFO:dbca.storage:Loading samples into storage...\n",
      "100%|██████████| 1359/1359 [26:38<00:00,  1.18s/it] \n",
      "INFO:dbca.storage:Done!\n",
      "INFO:dbca.full_sample_set:Loading 1359 samples...\n",
      "100%|██████████| 1359/1359 [00:00<00:00, 4852.46it/s]\n",
      "INFO:dbca.full_sample_set:Computing weight for all 29193 compounds...\n",
      "100%|██████████| 29193/29193 [01:03<00:00, 461.24it/s] \n",
      "INFO:dbca.full_sample_set:Keeping 10000/29193 highest weighted compounds.\n"
     ]
    }
   ],
   "source": [
    "assessor3 = GrammarDBCAssessor(grammar=EN_gm, train_text=train[::50], test_text=test[::50], assess_config=cof)"
   ]
  },
  {
   "cell_type": "code",
   "execution_count": null,
   "metadata": {},
   "outputs": [],
   "source": [
    "assessor3 "
   ]
  },
  {
   "cell_type": "code",
   "execution_count": 48,
   "metadata": {},
   "outputs": [
    {
     "data": {
      "image/png": "[encoded data removed]",
      "text/plain": [
       "<Figure size 432x288 with 1 Axes>"
      ]
     },
     "metadata": {
      "needs_background": "light"
     },
     "output_type": "display_data"
    },
    {
     "data": {
      "text/plain": [
       "<module 'matplotlib.pyplot' from 'd:\\\\anaconda\\\\lib\\\\site-packages\\\\matplotlib\\\\pyplot.py'>"
      ]
     },
     "execution_count": 48,
     "metadata": {},
     "output_type": "execute_result"
    }
   ],
   "source": [
    "assessor3.splitter.visualize_dists()"
   ]
  },
  {
   "cell_type": "code",
   "execution_count": 49,
   "metadata": {},
   "outputs": [
    {
     "data": {
      "image/png": "[encoded data removed]",
      "text/plain": [
       "<Figure size 432x288 with 1 Axes>"
      ]
     },
     "metadata": {
      "needs_background": "light"
     },
     "output_type": "display_data"
    },
    {
     "data": {
      "text/plain": [
       "<module 'matplotlib.pyplot' from 'd:\\\\anaconda\\\\lib\\\\site-packages\\\\matplotlib\\\\pyplot.py'>"
      ]
     },
     "execution_count": 49,
     "metadata": {},
     "output_type": "execute_result"
    }
   ],
   "source": [
    "assessor3.splitter.visualize_dists('atom')"
   ]
  },
  {
   "cell_type": "code",
   "execution_count": null,
   "metadata": {},
   "outputs": [],
   "source": []
  }
 ],
 "metadata": {
  "kernelspec": {
   "display_name": "Python 3.8.12 ('base')",
   "language": "python",
   "name": "python3"
  },
  "language_info": {
   "codemirror_mode": {
    "name": "ipython",
    "version": 3
   },
   "file_extension": ".py",
   "mimetype": "text/x-python",
   "name": "python",
   "nbconvert_exporter": "python",
   "pygments_lexer": "ipython3",
   "version": "3.8.12"
  },
  "orig_nbformat": 4,
  "vscode": {
   "interpreter": {
    "hash": "5179d32cf6ec497baf3f8a3ef987cc77c5d2dc691fdde20a56316522f61a7323"
   }
  }
 },
 "nbformat": 4,
 "nbformat_minor": 2
}
