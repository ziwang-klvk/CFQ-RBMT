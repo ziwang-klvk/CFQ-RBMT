{
 "cells": [
  {
   "cell_type": "code",
   "execution_count": 1,
   "metadata": {},
   "outputs": [],
   "source": [
    "from pathlib import Path\n",
    "import sys\n",
    "import os\n",
    "root = Path.cwd().parent\n",
    "sys.path.append(str(root))\n",
    "os.chdir(str(root))\n",
    "\n",
    "from dataset_generator import splitIO\n",
    "from assessment import GrammarDBCAssessor\n",
    "from grammar.source_grammar import EN_source_original_grammar as EN_gm"
   ]
  },
  {
   "cell_type": "code",
   "execution_count": 2,
   "metadata": {},
   "outputs": [],
   "source": [
    "from assessment import AssessConfig"
   ]
  },
  {
   "cell_type": "code",
   "execution_count": 3,
   "metadata": {},
   "outputs": [],
   "source": [
    "def read_file(path):\n",
    "    with open(path) as f:\n",
    "        lines = f.readlines()\n",
    "        text = [splitIO(line)[0] for line in lines]\n",
    "    return text"
   ]
  },
  {
   "cell_type": "code",
   "execution_count": null,
   "metadata": {},
   "outputs": [],
   "source": []
  },
  {
   "cell_type": "code",
   "execution_count": 4,
   "metadata": {},
   "outputs": [],
   "source": [
    "root_path = 'mcwq/official/'\n",
    "split = ['mcd1','mcd2','mcd3']\n",
    "path = os.path.join(root_path, split[0])\n",
    "train = read_file(os.path.join(path, 'train.en.txt'))\n",
    "test  = read_file(os.path.join(path, 'dev.en.txt')) + read_file(os.path.join(path, 'test.en.txt'))"
   ]
  },
  {
   "cell_type": "code",
   "execution_count": 5,
   "metadata": {},
   "outputs": [
    {
     "name": "stdout",
     "output_type": "stream",
     "text": [
      "------initializing------\n",
      "Generating train Samples...\n"
     ]
    },
    {
     "name": "stderr",
     "output_type": "stream",
     "text": [
      "100%|██████████| 1000/1000 [00:03<00:00, 258.46it/s]\n"
     ]
    },
    {
     "name": "stdout",
     "output_type": "stream",
     "text": [
      "Generating test Samples...\n"
     ]
    },
    {
     "name": "stderr",
     "output_type": "stream",
     "text": [
      "100%|██████████| 200/200 [00:01<00:00, 186.02it/s]\n",
      "INFO:dbca.storage:Loading samples into storage...\n",
      "100%|██████████| 1200/1200 [19:47<00:00,  1.01it/s]\n",
      "INFO:dbca.storage:Done!\n",
      "INFO:dbca.full_sample_set:Loading 1200 samples...\n",
      "100%|██████████| 1200/1200 [00:00<00:00, 3698.79it/s]\n",
      "INFO:dbca.full_sample_set:Computing weight for all 14337 compounds...\n",
      "100%|██████████| 14337/14337 [02:07<00:00, 112.60it/s] \n",
      "INFO:dbca.full_sample_set:Keeping 10000/14337 highest weighted compounds.\n"
     ]
    }
   ],
   "source": [
    "assessor = GrammarDBCAssessor(grammar=EN_gm, train_text=train[:1000], test_text=test[:200])"
   ]
  },
  {
   "cell_type": "code",
   "execution_count": 8,
   "metadata": {},
   "outputs": [
    {
     "data": {
      "image/png": "[encoded data removed]",
      "text/plain": [
       "<Figure size 432x288 with 1 Axes>"
      ]
     },
     "metadata": {
      "needs_background": "light"
     },
     "output_type": "display_data"
    },
    {
     "data": {
      "text/plain": [
       "<module 'matplotlib.pyplot' from '/opt/anaconda3/lib/python3.8/site-packages/matplotlib/pyplot.py'>"
      ]
     },
     "execution_count": 8,
     "metadata": {},
     "output_type": "execute_result"
    }
   ],
   "source": [
    "assessor.splitter.visualize_dists()"
   ]
  },
  {
   "cell_type": "code",
   "execution_count": 9,
   "metadata": {},
   "outputs": [
    {
     "data": {
      "image/png": "[encoded data removed]",
      "text/plain": [
       "<Figure size 432x288 with 1 Axes>"
      ]
     },
     "metadata": {
      "needs_background": "light"
     },
     "output_type": "display_data"
    },
    {
     "data": {
      "text/plain": [
       "<module 'matplotlib.pyplot' from '/opt/anaconda3/lib/python3.8/site-packages/matplotlib/pyplot.py'>"
      ]
     },
     "execution_count": 9,
     "metadata": {},
     "output_type": "execute_result"
    }
   ],
   "source": [
    "assessor.splitter.visualize_dists('atom')"
   ]
  },
  {
   "cell_type": "code",
   "execution_count": 5,
   "metadata": {},
   "outputs": [],
   "source": [
    "root_path = 'mcwq/official/'\n",
    "split = ['mcd1','mcd2','mcd3']\n",
    "path = os.path.join(root_path, split[0])\n",
    "train = read_file(os.path.join(path, 'train.en.txt'))\n",
    "test  = read_file(os.path.join(path, 'dev.en.txt')) + read_file(os.path.join(path, 'test.en.txt'))"
   ]
  },
  {
   "cell_type": "code",
   "execution_count": 6,
   "metadata": {},
   "outputs": [
    {
     "name": "stdout",
     "output_type": "stream",
     "text": [
      "------initializing------\n",
      "Generating train Samples...\n"
     ]
    },
    {
     "name": "stderr",
     "output_type": "stream",
     "text": [
      "100%|██████████| 2860/2860 [00:13<00:00, 215.30it/s]\n"
     ]
    },
    {
     "name": "stdout",
     "output_type": "stream",
     "text": [
      "Generating test Samples...\n"
     ]
    },
    {
     "name": "stderr",
     "output_type": "stream",
     "text": [
      "100%|██████████| 536/536 [00:02<00:00, 218.19it/s]\n",
      "INFO:dbca.storage:Loading samples into storage...\n",
      "  2%|▏         | 71/3396 [00:48<38:12,  1.45it/s]  \n"
     ]
    },
    {
     "ename": "KeyboardInterrupt",
     "evalue": "",
     "output_type": "error",
     "traceback": [
      "\u001b[0;31m---------------------------------------------------------------------------\u001b[0m",
      "\u001b[0;31mKeyboardInterrupt\u001b[0m                         Traceback (most recent call last)",
      "\u001b[1;32m/Users/mac/Documents/文稿 - mac的MacBook Pro/UCPH/project/CFQ-RBMT/da/nb.ipynb Cell 10\u001b[0m in \u001b[0;36m<cell line: 1>\u001b[0;34m()\u001b[0m\n\u001b[0;32m----> <a href='vscode-notebook-cell:/Users/mac/Documents/%E6%96%87%E7%A8%BF%20-%20mac%E7%9A%84MacBook%20Pro/UCPH/project/CFQ-RBMT/da/nb.ipynb#ch0000010?line=0'>1</a>\u001b[0m assessor2 \u001b[39m=\u001b[39m GrammarDBCAssessor(grammar\u001b[39m=\u001b[39;49mEN_gm, train_text\u001b[39m=\u001b[39;49mtrain[::\u001b[39m20\u001b[39;49m], test_text\u001b[39m=\u001b[39;49mtest[::\u001b[39m20\u001b[39;49m])\n",
      "File \u001b[0;32m~/Documents/文稿 - mac的MacBook Pro/UCPH/project/CFQ-RBMT/da/assessment.py:41\u001b[0m, in \u001b[0;36mGrammarDBCAssessor.__init__\u001b[0;34m(self, grammar, train_text, test_text, assess_config)\u001b[0m\n\u001b[1;32m     38\u001b[0m \u001b[39mself\u001b[39m\u001b[39m.\u001b[39mtrain_samples \u001b[39m=\u001b[39m \u001b[39mself\u001b[39m\u001b[39m.\u001b[39m__parse_and_gen_samples(train_text, \u001b[39m'\u001b[39m\u001b[39mtrain\u001b[39m\u001b[39m'\u001b[39m)\n\u001b[1;32m     39\u001b[0m \u001b[39mself\u001b[39m\u001b[39m.\u001b[39mtest_samples \u001b[39m=\u001b[39m \u001b[39mself\u001b[39m\u001b[39m.\u001b[39m__parse_and_gen_samples(test_text, \u001b[39m'\u001b[39m\u001b[39mtest\u001b[39m\u001b[39m'\u001b[39m)\n\u001b[0;32m---> 41\u001b[0m \u001b[39mself\u001b[39m\u001b[39m.\u001b[39matom_diver, \u001b[39mself\u001b[39m\u001b[39m.\u001b[39mcomp_diver, \u001b[39mself\u001b[39m\u001b[39m.\u001b[39msplitter \u001b[39m=\u001b[39m DBCASplitter\u001b[39m.\u001b[39;49mmeasure_sample_sets(\u001b[39mself\u001b[39;49m\u001b[39m.\u001b[39;49mtrain_samples,\n\u001b[1;32m     42\u001b[0m                                                                                    \u001b[39mself\u001b[39;49m\u001b[39m.\u001b[39;49mtest_samples,\n\u001b[1;32m     43\u001b[0m                                                                                    \u001b[39mself\u001b[39;49m\u001b[39m.\u001b[39;49mDBCAConfig)\n",
      "File \u001b[0;32m~/src/dbca/dbca/dbca_splitter.py:423\u001b[0m, in \u001b[0;36mDBCASplitter.measure_sample_sets\u001b[0;34m(cls, train_set, test_set, config)\u001b[0m\n\u001b[1;32m    402\u001b[0m \u001b[39m\"\"\"\u001b[39;00m\n\u001b[1;32m    403\u001b[0m \u001b[39mMeasure atom and compound divergence between two existing sample sets.\u001b[39;00m\n\u001b[1;32m    404\u001b[0m \u001b[39m\u001b[39;00m\n\u001b[0;32m   (...)\u001b[0m\n\u001b[1;32m    420\u001b[0m \u001b[39m\u001b[39;00m\n\u001b[1;32m    421\u001b[0m \u001b[39m\"\"\"\u001b[39;00m\n\u001b[1;32m    422\u001b[0m \u001b[39m# UPDATE: config is passed here since the max_n_compound account for the measurement\u001b[39;00m\n\u001b[0;32m--> 423\u001b[0m dbca_splitter \u001b[39m=\u001b[39m \u001b[39mcls\u001b[39;49m(train_set \u001b[39m+\u001b[39;49m test_set, config \u001b[39m=\u001b[39;49m config)\n\u001b[1;32m    424\u001b[0m \u001b[39mfor\u001b[39;00m sample \u001b[39min\u001b[39;00m train_set:\n\u001b[1;32m    425\u001b[0m     dbca_splitter\u001b[39m.\u001b[39madd_sample_to_set(sample\u001b[39m.\u001b[39mid, dbca_splitter\u001b[39m.\u001b[39mtrain_set)\n",
      "File \u001b[0;32m~/src/dbca/dbca/dbca_splitter.py:71\u001b[0m, in \u001b[0;36mDBCASplitter.__init__\u001b[0;34m(self, samples, config)\u001b[0m\n\u001b[1;32m     63\u001b[0m \u001b[39mdef\u001b[39;00m \u001b[39m__init__\u001b[39m(\u001b[39mself\u001b[39m, samples: List[Sample], config: DBCASplitterConfig \u001b[39m=\u001b[39m \u001b[39mNone\u001b[39;00m):\n\u001b[1;32m     64\u001b[0m     \u001b[39m\"\"\"\u001b[39;00m\n\u001b[1;32m     65\u001b[0m \u001b[39m    Create new DBCASplitter.\u001b[39;00m\n\u001b[1;32m     66\u001b[0m \n\u001b[0;32m   (...)\u001b[0m\n\u001b[1;32m     69\u001b[0m \u001b[39m        config (DBCASplitterConfig, optional): Optional settings for split generation.\u001b[39;00m\n\u001b[1;32m     70\u001b[0m \u001b[39m    \"\"\"\u001b[39;00m\n\u001b[0;32m---> 71\u001b[0m     \u001b[39mself\u001b[39m\u001b[39m.\u001b[39msample_store \u001b[39m=\u001b[39m SampleStore(samples)\n\u001b[1;32m     72\u001b[0m     \u001b[39m# the top_n_compounds follows configuration\u001b[39;00m\n\u001b[1;32m     73\u001b[0m     \u001b[39mself\u001b[39m\u001b[39m.\u001b[39mfull_sample_set \u001b[39m=\u001b[39m FullSampleSet(sample_store\u001b[39m=\u001b[39m\u001b[39mself\u001b[39m\u001b[39m.\u001b[39msample_store, top_n_compounds\u001b[39m=\u001b[39mconfig\u001b[39m.\u001b[39mmax_compounds)  \n",
      "File \u001b[0;32m~/src/dbca/dbca/storage.py:38\u001b[0m, in \u001b[0;36mSampleStore.__init__\u001b[0;34m(self, samples)\u001b[0m\n\u001b[1;32m     35\u001b[0m \u001b[39mself\u001b[39m\u001b[39m.\u001b[39m_compounds_by_uid \u001b[39m=\u001b[39m {}\n\u001b[1;32m     37\u001b[0m logger\u001b[39m.\u001b[39minfo(\u001b[39m\"\u001b[39m\u001b[39mLoading samples into storage...\u001b[39m\u001b[39m\"\u001b[39m)\n\u001b[0;32m---> 38\u001b[0m \u001b[39mself\u001b[39;49m\u001b[39m.\u001b[39;49mload_samples(samples)\n\u001b[1;32m     39\u001b[0m logger\u001b[39m.\u001b[39minfo(\u001b[39m\"\u001b[39m\u001b[39mDone!\u001b[39m\u001b[39m\"\u001b[39m)\n",
      "File \u001b[0;32m~/src/dbca/dbca/storage.py:52\u001b[0m, in \u001b[0;36mSampleStore.load_samples\u001b[0;34m(self, samples)\u001b[0m\n\u001b[1;32m     50\u001b[0m \u001b[39mfor\u001b[39;00m s \u001b[39min\u001b[39;00m tqdm(samples, total\u001b[39m=\u001b[39m\u001b[39mlen\u001b[39m(samples)):\n\u001b[1;32m     51\u001b[0m     \u001b[39mself\u001b[39m\u001b[39m.\u001b[39m_sample_atoms\u001b[39m.\u001b[39mupdate({s\u001b[39m.\u001b[39mid: s\u001b[39m.\u001b[39matoms})\n\u001b[0;32m---> 52\u001b[0m     \u001b[39mfor\u001b[39;00m i, c \u001b[39min\u001b[39;00m \u001b[39menumerate\u001b[39m(s\u001b[39m.\u001b[39;49mcompounds):\n\u001b[1;32m     53\u001b[0m         \u001b[39m# get unique id for each compound occurence in sample set\u001b[39;00m\n\u001b[1;32m     54\u001b[0m         c_uid \u001b[39m=\u001b[39m \u001b[39mf\u001b[39m\u001b[39m\"\u001b[39m\u001b[39m{\u001b[39;00ms\u001b[39m.\u001b[39mid\u001b[39m}\u001b[39;00m\u001b[39m_\u001b[39m\u001b[39m{\u001b[39;00m\u001b[39mstr\u001b[39m(c)\u001b[39m}\u001b[39;00m\u001b[39m_\u001b[39m\u001b[39m{\u001b[39;00mi\u001b[39m}\u001b[39;00m\u001b[39m\"\u001b[39m \n\u001b[1;32m     55\u001b[0m         _compounds_by_type[\u001b[39mstr\u001b[39m(c)][s\u001b[39m.\u001b[39mid][c_uid] \u001b[39m=\u001b[39m c\n",
      "File \u001b[0;32m~/src/dbca/dbca/datasets/relational/relational_sample.py:94\u001b[0m, in \u001b[0;36mRelationalSample.compounds\u001b[0;34m(self)\u001b[0m\n\u001b[1;32m     90\u001b[0m new_linear_compounds \u001b[39m=\u001b[39m \u001b[39mself\u001b[39m\u001b[39m.\u001b[39mgen_linear_compound()\n\u001b[1;32m     92\u001b[0m \u001b[39mself\u001b[39m\u001b[39m.\u001b[39m_compounds \u001b[39m+\u001b[39m\u001b[39m=\u001b[39m new_linear_compounds\n\u001b[0;32m---> 94\u001b[0m new_nonlinear_compounds \u001b[39m=\u001b[39m \u001b[39mself\u001b[39;49m\u001b[39m.\u001b[39;49mgen_nonlinear_compound()\n\u001b[1;32m     96\u001b[0m \u001b[39mself\u001b[39m\u001b[39m.\u001b[39m_compounds \u001b[39m+\u001b[39m\u001b[39m=\u001b[39m new_nonlinear_compounds\n\u001b[1;32m     98\u001b[0m \u001b[39m# otherwise we will double count subgraphs\u001b[39;00m\n",
      "File \u001b[0;32m~/src/dbca/dbca/datasets/relational/relational_sample.py:123\u001b[0m, in \u001b[0;36mRelationalSample.gen_nonlinear_compound\u001b[0;34m(self)\u001b[0m\n\u001b[1;32m    121\u001b[0m \u001b[39mfor\u001b[39;00m n_nodes \u001b[39min\u001b[39;00m \u001b[39mrange\u001b[39m(\u001b[39m2\u001b[39m, \u001b[39mself\u001b[39m\u001b[39m.\u001b[39mc_max_n_nodes\u001b[39m+\u001b[39m\u001b[39m1\u001b[39m):\n\u001b[1;32m    122\u001b[0m     \u001b[39mfor\u001b[39;00m combs \u001b[39min\u001b[39;00m combinations(G\u001b[39m.\u001b[39mnodes, n_nodes):\n\u001b[0;32m--> 123\u001b[0m         compound \u001b[39m=\u001b[39m G\u001b[39m.\u001b[39;49msubgraph(combs)\n\u001b[1;32m    124\u001b[0m         \u001b[39mif\u001b[39;00m is_weakly_connected(compound) \u001b[39mand\u001b[39;00m max_degree(compound) \u001b[39m<\u001b[39m\u001b[39m=\u001b[39m c_max_n_branch:\n\u001b[1;32m    125\u001b[0m             r_compound \u001b[39m=\u001b[39m RelationalCompound(compound, G, \u001b[39mid\u001b[39m)\n",
      "File \u001b[0;32m/opt/anaconda3/lib/python3.8/site-packages/networkx/classes/graph.py:1726\u001b[0m, in \u001b[0;36mGraph.subgraph\u001b[0;34m(self, nodes)\u001b[0m\n\u001b[1;32m   1724\u001b[0m \u001b[39mif\u001b[39;00m \u001b[39mhasattr\u001b[39m(\u001b[39mself\u001b[39m, \u001b[39m\"\u001b[39m\u001b[39m_NODE_OK\u001b[39m\u001b[39m\"\u001b[39m):\n\u001b[1;32m   1725\u001b[0m     \u001b[39mreturn\u001b[39;00m subgraph(\u001b[39mself\u001b[39m\u001b[39m.\u001b[39m_graph, induced_nodes, \u001b[39mself\u001b[39m\u001b[39m.\u001b[39m_EDGE_OK)\n\u001b[0;32m-> 1726\u001b[0m \u001b[39mreturn\u001b[39;00m subgraph(\u001b[39mself\u001b[39;49m, induced_nodes)\n",
      "File \u001b[0;32m/opt/anaconda3/lib/python3.8/site-packages/networkx/classes/graphviews.py:144\u001b[0m, in \u001b[0;36msubgraph_view\u001b[0;34m(G, filter_node, filter_edge)\u001b[0m\n\u001b[1;32m     75\u001b[0m \u001b[39mdef\u001b[39;00m \u001b[39msubgraph_view\u001b[39m(G, filter_node\u001b[39m=\u001b[39mno_filter, filter_edge\u001b[39m=\u001b[39mno_filter):\n\u001b[1;32m     76\u001b[0m     \u001b[39m\"\"\"View of `G` applying a filter on nodes and edges.\u001b[39;00m\n\u001b[1;32m     77\u001b[0m \n\u001b[1;32m     78\u001b[0m \u001b[39m    `subgraph_view` provides a read-only view of the input graph that excludes\u001b[39;00m\n\u001b[0;32m   (...)\u001b[0m\n\u001b[1;32m    142\u001b[0m \u001b[39m    EdgeView([(0, 1), (1, 2), (2, 3)])\u001b[39;00m\n\u001b[1;32m    143\u001b[0m \u001b[39m    \"\"\"\u001b[39;00m\n\u001b[0;32m--> 144\u001b[0m     newG \u001b[39m=\u001b[39m nx\u001b[39m.\u001b[39mfreeze(G\u001b[39m.\u001b[39;49m\u001b[39m__class__\u001b[39;49m())\n\u001b[1;32m    145\u001b[0m     newG\u001b[39m.\u001b[39m_NODE_OK \u001b[39m=\u001b[39m filter_node\n\u001b[1;32m    146\u001b[0m     newG\u001b[39m.\u001b[39m_EDGE_OK \u001b[39m=\u001b[39m filter_edge\n",
      "File \u001b[0;32m/opt/anaconda3/lib/python3.8/site-packages/networkx/classes/digraph.py:308\u001b[0m, in \u001b[0;36mDiGraph.__init__\u001b[0;34m(self, incoming_graph_data, **attr)\u001b[0m\n\u001b[1;32m    305\u001b[0m \u001b[39mself\u001b[39m\u001b[39m.\u001b[39madjlist_inner_dict_factory \u001b[39m=\u001b[39m \u001b[39mself\u001b[39m\u001b[39m.\u001b[39madjlist_inner_dict_factory\n\u001b[1;32m    306\u001b[0m \u001b[39mself\u001b[39m\u001b[39m.\u001b[39medge_attr_dict_factory \u001b[39m=\u001b[39m \u001b[39mself\u001b[39m\u001b[39m.\u001b[39medge_attr_dict_factory\n\u001b[0;32m--> 308\u001b[0m \u001b[39mself\u001b[39m\u001b[39m.\u001b[39mgraph \u001b[39m=\u001b[39m \u001b[39mself\u001b[39m\u001b[39m.\u001b[39mgraph_attr_dict_factory()  \u001b[39m# dictionary for graph attributes\u001b[39;00m\n\u001b[1;32m    309\u001b[0m \u001b[39mself\u001b[39m\u001b[39m.\u001b[39m_node \u001b[39m=\u001b[39m \u001b[39mself\u001b[39m\u001b[39m.\u001b[39mnode_dict_factory()  \u001b[39m# dictionary for node attr\u001b[39;00m\n\u001b[1;32m    310\u001b[0m \u001b[39m# We store two adjacency lists:\u001b[39;00m\n\u001b[1;32m    311\u001b[0m \u001b[39m# the predecessors of node n are stored in the dict self._pred\u001b[39;00m\n\u001b[1;32m    312\u001b[0m \u001b[39m# the successors of node n are stored in the dict self._succ=self._adj\u001b[39;00m\n",
      "\u001b[0;31mKeyboardInterrupt\u001b[0m: "
     ]
    }
   ],
   "source": [
    "assessor2 = GrammarDBCAssessor(grammar=EN_gm, train_text=train[::20], test_text=test[::20])"
   ]
  },
  {
   "cell_type": "code",
   "execution_count": null,
   "metadata": {},
   "outputs": [],
   "source": []
  }
 ],
 "metadata": {
  "kernelspec": {
   "display_name": "Python 3.8.12 ('base')",
   "language": "python",
   "name": "python3"
  },
  "language_info": {
   "codemirror_mode": {
    "name": "ipython",
    "version": 3
   },
   "file_extension": ".py",
   "mimetype": "text/x-python",
   "name": "python",
   "nbconvert_exporter": "python",
   "pygments_lexer": "ipython3",
   "version": "3.8.12"
  },
  "orig_nbformat": 4,
  "vscode": {
   "interpreter": {
    "hash": "40d3a090f54c6569ab1632332b64b2c03c39dcf918b08424e98f38b5ae0af88f"
   }
  }
 },
 "nbformat": 4,
 "nbformat_minor": 2
}
