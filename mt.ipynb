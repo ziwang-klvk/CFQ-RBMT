{
 "cells": [
  {
   "cell_type": "code",
   "execution_count": 1,
   "metadata": {},
   "outputs": [],
   "source": [
    "import urbans"
   ]
  },
  {
   "cell_type": "code",
   "execution_count": null,
   "metadata": {},
   "outputs": [],
   "source": [
    "src_grammar = \"\"\"S -> NPQ VP Qmark\n",
    "S -> NPQ was Nominal Qmark\n",
    "S -> NPQ did NPVmod Qmark\n",
    "S -> was Nominal Vobl Qmark\n",
    "S -> NPQ Vobl Qmark\n",
    "S -> was Nominal Adj Qmark\n",
    "S -> was NominalA NominalB Qmark\n",
    "S -> did Nominal VP Qmark\n",
    "\n",
    "NominalA -> Nominal\n",
    "NominalB -> Nominal\n",
    "\n",
    "NPVmod -> Nominal VMod \n",
    "NPVmod -> Nominal VPrepOrgMod\n",
    "\n",
    "VP -> V Nominal\n",
    "VP -> was Vobl \n",
    "VPrep -> was VPrep \n",
    "VPrep -> V by\n",
    "\n",
    "VPrepMod -> was VPrepMod\n",
    "VPrepMod -> VMod by\n",
    "\n",
    "VPrepOrgMod -> was VPrepOrgMod\n",
    "VPrepOrgMod -> VPassOrgMod by\n",
    "\n",
    "Vobl -> VPrep Nominal \n",
    "VoblMod -> VPrepMod Nominal\n",
    "NPQ -> WhW Nominal \n",
    "NPQ -> WhW role caseO\n",
    "\n",
    "commonNoun -> commonNoun RC\n",
    "\n",
    "RC -> VoblMod\n",
    "RC -> R VP\n",
    "RC -> R NPVmod\n",
    "RC -> whose role VP\n",
    "\n",
    "VP -> VP andVP\n",
    "VP -> VPx andVP\n",
    "VPx -> VP punctVP \n",
    "VPx -> VPx punctVP \n",
    "andVP -> conj VP \n",
    "andVP -> punct conj VP \n",
    "punctVP -> punct VP\n",
    "\"\"\""
   ]
  },
  {
   "cell_type": "code",
   "execution_count": 2,
   "metadata": {},
   "outputs": [],
   "source": [
    "src_to_target_grammar = {\n",
    "    \"S -> NPQ VP Qmark\":\"S -> NPQ が VP か Qmark\", \n",
    "    \"S -> NPQ was Nominal Qmark\":\"S -> Nominal は NPQ でしたか Qmark\", # Q\n",
    "    \"S -> NPQ did NPVmod Qmark\":\"S -> NPVmod のは NPQ でしたか Qmark\", # what did A write and B edit? -> A ga kaite, B ga hennshushita no ha nann deshitaka\n",
    "    \"S -> was Nominal Vobl Qmark\":\"S -> Nominal は Vobl か Qmark\",\n",
    "    \"S -> NPQ Vobl Qmark\":\"NPQ が Vobl か Qmark\", # same Q\n",
    "    \"S -> was Nominal Adj Qmark\":\"S -> Nominal は Adj でしたか Qmark\",\n",
    "    \"S -> was NominalA NominalB Qmark\":\"S -> NominalA は NominalB でしたか Qmark\",\n",
    "    \"S -> did Nominal VP Qmark\":\"S -> Nominal は VP か Qmark\",\n",
    "\n",
    "    # TODO: Rules to add for VMod and VPrepOrgMod\n",
    "    \"NPVmod -> Nominal VMod\":\"NPVmod -> Nominal が VMod\",\n",
    "    # todo: this rule basically follows VP, VPrepOrg finally derives as V\n",
    "    \"NPVmod -> Nominal VPrepOrgMod\":\"NPVmod -> Nominal を VPrepOrgMod\", # VPrepOrg: passive in EN, active in JP \n",
    "\n",
    "\n",
    "    \"VP -> V Nominal\":\"VP -> Nominal を V\", # have lunch -> hirugohan wo taberu\n",
    "    \"VP -> was Vobl\":\"VP -> Vobl\", # was done by him -> kare ni sareta\n",
    "    \"VPrep -> was VPrep\":\"VPrep -> VPrep\",\n",
    "    \"VPrep -> V by\":\"VPrep -> に V\",\n",
    "\n",
    "    \"VPrepMod -> was VPrepMod\":\"VPrepMod -> VPrepMod\",\n",
    "    \"VPrepMod -> VMod by\":\"に VMod\",\n",
    "\n",
    "    \"VPrepOrgMod -> was VPrepOrgMod\":\"VPrepOrgMod -> VPrepOrgMod\",\n",
    "    \"VPrepOrgMod -> VPassOrgMod by\":\"VPrepOrgMod -> VPassOrgMod\",\n",
    "\n",
    "    \"Vobl -> VPrep Nominal\":\"Vobl -> Nominal VPrep\", # done by nominal -> nominal ni sareta\n",
    "    \"VoblMod -> VPrepMod Nominal\":\"VoblMod -> Nominal VPrepMod\",\n",
    "    \n",
    "    \"NPQ -> WhW Nominal\":\"NPQ -> WhW Nominal\", # which city -> dono machi\n",
    "    # TODO: caseO -> of ... : caseO ... no\n",
    "    \"NPQ -> WhW role caseO\":\"NPQ -> caseO WhW role\", # which character of Alice -> alisu no dono kyarakuta\n",
    "\n",
    "    \"commonNoun -> commonNoun RC\":\"commonNoun -> RC commonNoun\", # people whose role was... -> yaku ga... hito\n",
    "    \"RC -> VoblMod\":\"RC -> VoblMod\", # people attacked by... -> ...ni kougekisareta hito \n",
    "    ##### TODO: Mod for this\n",
    "    \"RC -> R VP\":\"RC -> VP\", # people that eat... -> ...wo taberu hito\n",
    "    \"RC -> R NPVmod\":\"RC -> NPVmod\", # people that you like -> anata ga sukina hito\n",
    "    \"RC -> whose role VP\":\"RC -> YAKU GA VP\", # todo: YAKU GA -> ...\n",
    "\n",
    "    \"VP -> VP andVP\":\"VP -> VPT andVP\",\n",
    "    \"VP -> VPx andVP\":\"VP -> VPx andVP\",\n",
    "    \"VPx -> VP punctVP\":\"VPx -> VPT punctVP\",\n",
    "    \"VPx -> VPx punctVP\":\"VPx -> VPx punctVP\",\n",
    "    \"andVP -> conj VP\":\"andVP -> soshite VP\",\n",
    "    \"andVP -> punct conj VP\":\"andVP -> punct soshite VP\",\n",
    "    \"punctVP -> punct VP\":\"punctVP -> punct VP\"\n",
    "\n",
    "\n",
    "\n",
    "}"
   ]
  },
  {
   "cell_type": "markdown",
   "metadata": {},
   "source": [
    "special cases: like -> ga suki"
   ]
  },
  {
   "cell_type": "code",
   "execution_count": null,
   "metadata": {},
   "outputs": [],
   "source": []
  }
 ],
 "metadata": {
  "kernelspec": {
   "display_name": "Python 3.8.12 ('base')",
   "language": "python",
   "name": "python3"
  },
  "language_info": {
   "codemirror_mode": {
    "name": "ipython",
    "version": 3
   },
   "file_extension": ".py",
   "mimetype": "text/x-python",
   "name": "python",
   "nbconvert_exporter": "python",
   "pygments_lexer": "ipython3",
   "version": "3.8.12"
  },
  "orig_nbformat": 4,
  "vscode": {
   "interpreter": {
    "hash": "40d3a090f54c6569ab1632332b64b2c03c39dcf918b08424e98f38b5ae0af88f"
   }
  }
 },
 "nbformat": 4,
 "nbformat_minor": 2
}
