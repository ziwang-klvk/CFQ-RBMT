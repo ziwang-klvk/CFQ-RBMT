{
 "cells": [
  {
   "cell_type": "code",
   "execution_count": 2,
   "metadata": {},
   "outputs": [
    {
     "name": "stdout",
     "output_type": "stream",
     "text": [
      "Obtaining urbans from git+https://github.com/ziwang-klvk/urbans.git@syn#egg=urbans\n",
      "  Cloning https://github.com/ziwang-klvk/urbans.git (to revision syn) to ./src/urbans\n",
      "  Running command git clone -q https://github.com/ziwang-klvk/urbans.git '/Users/mac/Documents/文稿 - mac的MacBook Pro/UCPH/project/CFQ-RBMT/src/urbans'\n",
      "  Running command git checkout -b syn --track origin/syn\n",
      "  Switched to a new branch 'syn'\n",
      "  Branch 'syn' set up to track remote branch 'syn' from 'origin'.\n",
      "  Resolved https://github.com/ziwang-klvk/urbans.git to commit 5cb5fe7b022ce77e8b20d540bea58e3e256ca500\n",
      "Requirement already satisfied: nltk<4 in /opt/anaconda3/lib/python3.8/site-packages (from urbans) (3.7)\n",
      "Requirement already satisfied: regex>=2021.8.3 in /opt/anaconda3/lib/python3.8/site-packages (from nltk<4->urbans) (2021.11.2)\n",
      "Requirement already satisfied: tqdm in /opt/anaconda3/lib/python3.8/site-packages (from nltk<4->urbans) (4.63.0)\n",
      "Requirement already satisfied: joblib in /opt/anaconda3/lib/python3.8/site-packages (from nltk<4->urbans) (1.1.0)\n",
      "Requirement already satisfied: click in /opt/anaconda3/lib/python3.8/site-packages (from nltk<4->urbans) (8.0.4)\n",
      "Installing collected packages: urbans\n",
      "  Attempting uninstall: urbans\n",
      "    Found existing installation: urbans 0.0.1\n",
      "    Uninstalling urbans-0.0.1:\n",
      "      Successfully uninstalled urbans-0.0.1\n",
      "  Running setup.py develop for urbans\n",
      "Successfully installed urbans-0.0.1\n",
      "\u001b[33mWARNING: You are using pip version 21.3.1; however, version 22.2.1 is available.\n",
      "You should consider upgrading via the '/opt/anaconda3/bin/python -m pip install --upgrade pip' command.\u001b[0m\n"
     ]
    }
   ],
   "source": [
    "!pip install -e git+https://github.com/ziwang-klvk/urbans.git@syn#egg=urbans"
   ]
  },
  {
   "cell_type": "code",
   "execution_count": 3,
   "metadata": {},
   "outputs": [],
   "source": [
    "from urbans import Translator"
   ]
  },
  {
   "cell_type": "code",
   "execution_count": null,
   "metadata": {},
   "outputs": [],
   "source": [
    "Translator()"
   ]
  },
  {
   "cell_type": "code",
   "execution_count": null,
   "metadata": {},
   "outputs": [],
   "source": [
    "src_grammar = \"\"\"S -> NPQ VP Qmark\n",
    "S -> NPQ was Nominal Qmark\n",
    "S -> NPQ did NPVadj Qmark\n",
    "S -> was Nominal Vobl Qmark\n",
    "S -> NPQ Vobl Qmark\n",
    "S -> was Nominal Adj Qmark\n",
    "S -> was NominalA NominalB Qmark\n",
    "S -> did Nominal VP Qmark\n",
    "\n",
    "NominalA -> Nominal\n",
    "NominalB -> Nominal\n",
    "\n",
    "NPV -> Nominal V \n",
    "NPV -> Nominal VPrep\n",
    "\n",
    "VP -> V Nominal \n",
    "VP -> was Vobl \n",
    "VPrep -> was VPrep \n",
    "VPrep -> V by\n",
    "\n",
    "Vobl -> VPrep Nominal \n",
    "NPQ -> WhW Nominal \n",
    "NPQ -> WhW role caseO\n",
    "\n",
    "commonNoun -> commonNoun RC\n",
    "\n",
    "RC -> Vobl\n",
    "RC -> R VP\n",
    "RC -> R NPV\n",
    "RC -> whose role VP\n",
    "\n",
    "VP -> VP andVP\n",
    "VP -> VPx andVP\n",
    "VPx -> VP punctVP \n",
    "VPx -> VPx punctVP \n",
    "andVP -> conj VP \n",
    "andVP -> punct conj VP \n",
    "punctVP -> punct VP\n",
    "\"\"\""
   ]
  },
  {
   "cell_type": "code",
   "execution_count": 4,
   "metadata": {},
   "outputs": [
    {
     "ename": "SyntaxError",
     "evalue": "invalid syntax (<ipython-input-4-2b802e6f4d5c>, line 7)",
     "output_type": "error",
     "traceback": [
      "\u001b[0;36m  File \u001b[0;32m\"<ipython-input-4-2b802e6f4d5c>\"\u001b[0;36m, line \u001b[0;32m7\u001b[0m\n\u001b[0;31m    }\u001b[0m\n\u001b[0m    ^\u001b[0m\n\u001b[0;31mSyntaxError\u001b[0m\u001b[0;31m:\u001b[0m invalid syntax\n"
     ]
    }
   ],
   "source": [
    "src_to_target_grammar = {\n",
    "    \"S -> NPQ VP Qmark\":\"S -> NPQ VP か Qmark\", \n",
    "    \"S -> NPQ was Nominal Qmark\":\"S -> Nominal は NPQ でしたか Qmark\", # Q\n",
    "    \"S -> NPQ did NPVadj Qmark\":\"S -> NPVadj のは NPQ でしたか Qmark\", # what did A write and B edit? -> A ga kaite, B ga hennshushita no ha nann deshitaka\n",
    "    \"S -> was Nominal Vobl Qmark\":\"S -> Nominal は Vobl か Qmark\",\n",
    "    \"S -> NPQ Vobl Qmark\":\"NPQ Vobl か Qmark\", # same Q\n",
    "    \"S -> was Nominal Adj Qmark\":\"S -> Nominal は Adj でしたか Qmark\",\n",
    "    \"S -> was NominalA NominalB Qmark\":\"S -> NominalA は NominalB でしたか Qmark\",\n",
    "    \"S -> did Nominal VP Qmark\":\"S -> Nominal は VP か Qmark\",\n",
    "\n",
    "    \"VP -> V Nominal\":\"VP -> Nominal WO V\", # have lunch -> hirugohan wo taberu\n",
    "    \"VP -> was Vobl\":\"GA Vobl\", # was done by him -> kare ni sareta\n",
    "    \"VPrep -> was VPrep\":\"GA VPrep\",\n",
    "    \"VPrep -> V by\":\"NI V\",\n",
    "\n",
    "    \"Vobl -> VPrep Nominal\":\"Vobl -> Nominal VPrep\", # \n",
    "    \"NPQ -> WhW Nominal\":\"NPQ -> WhW Nominal\", # which city -> dono machi\n",
    "    \"NPQ -> WhW role caseO\":\"NPQ -> casdO role WhW\", # which character of Alice -> alisu no dono kyarakuta\n",
    "\n",
    "    \"commonNoun -> commonNoun RC\":\"commonNoun -> RC commonNoun\", # people whose role was... -> yaku ga... hito\n",
    "    \"RC -> Vobl\":\"RC -> Vobl\", # people attacked by... -> ...ni kougekisareta hito \n",
    "    \"RC -> R VP\":\"RC -> VP\", # people that eat... -> ...wo taberu hito\n",
    "    \"RC -> R NPV\":\"RC -> NPV\", # people that you like -> anata ga sukina hito\n",
    "    \"RC -> whose role VP\":\"RC -> YAKU GA VP\", # todo: YAKU GA -> ...\n",
    "\n",
    "    \"VP -> VP andVP\":\"VP -> VPT andVP\",\n",
    "    \"VP -> VPx andVP\":\"VP -> VPx andVP\",\n",
    "    \"VPx -> VP punctVP\":\"VPx -> VPT punctVP\",\n",
    "    \"VPx -> VPx punctVP\":\"VPx -> VPx punctVP\",\n",
    "    \"andVP -> conj VP\":\"andVP -> soshite VP\",\n",
    "    \"andVP -> punct conj VP\":\"andVP -> punct soshite VP\",\n",
    "    \"punctVP -> punct VP\":\"punctVP -> punct VP\"\n",
    "\n",
    "\n",
    "\n",
    "}"
   ]
  },
  {
   "cell_type": "markdown",
   "metadata": {},
   "source": [
    "special cases: like -> ga suki"
   ]
  },
  {
   "cell_type": "code",
   "execution_count": null,
   "metadata": {},
   "outputs": [],
   "source": [
    "src_grammar = \"\"\"S -> NPQ VP Qmark\n",
    "S -> NPQ was Nominal Qmark\n",
    "S -> NPQ did Nominal V Qmark            ##\n",
    "S -> NPQ did Nominal VPrep Qmark        ##\n",
    "S -> was Nominal Vobl Qmark\n",
    "S -> NPQ Vobl Qmark\n",
    "S -> was Nominal Adj Qmark\n",
    "S -> was Nominal Nominal Qmark\n",
    "S -> did Nominal VP Qmark\n",
    "\n",
    "NPV -> Nominal V                        ##\n",
    "NPV -> Nominal VPrep                    ##\n",
    "\n",
    "VP -> V Nominal \n",
    "VP -> was Vobl \n",
    "VPrep -> was VPrep \n",
    "VPrep -> V by\n",
    "\"\"\""
   ]
  },
  {
   "cell_type": "code",
   "execution_count": null,
   "metadata": {},
   "outputs": [],
   "source": []
  }
 ],
 "metadata": {
  "kernelspec": {
   "display_name": "Python 3.7.7 64-bit",
   "language": "python",
   "name": "python3"
  },
  "language_info": {
   "codemirror_mode": {
    "name": "ipython",
    "version": 3
   },
   "file_extension": ".py",
   "mimetype": "text/x-python",
   "name": "python",
   "nbconvert_exporter": "python",
   "pygments_lexer": "ipython3",
   "version": "3.7.7"
  },
  "orig_nbformat": 4,
  "vscode": {
   "interpreter": {
    "hash": "aee8b7b246df8f9039afb4144a1f6fd8d2ca17a180786b69acc140d282b71a49"
   }
  }
 },
 "nbformat": 4,
 "nbformat_minor": 2
}
